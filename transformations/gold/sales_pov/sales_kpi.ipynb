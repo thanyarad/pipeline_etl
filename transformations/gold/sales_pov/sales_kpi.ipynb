{
 "cells": [
  {
   "cell_type": "code",
   "execution_count": 0,
   "metadata": {
    "application/vnd.databricks.v1+cell": {
     "cellMetadata": {
      "byteLimit": 2048000,
      "rowLimit": 10000
     },
     "inputWidgets": {},
     "nuid": "eefa5336-7329-4989-b95e-e02f0be7591a",
     "showTitle": false,
     "tableResultSettingsMap": {},
     "title": ""
    }
   },
   "outputs": [],
   "source": [
    "%sql\n",
    "DROP SCHEMA IF EXISTS cpg_industry.gold_sales CASCADE;"
   ]
  },
  {
   "cell_type": "code",
   "execution_count": 0,
   "metadata": {
    "application/vnd.databricks.v1+cell": {
     "cellMetadata": {
      "byteLimit": 2048000,
      "rowLimit": 10000
     },
     "inputWidgets": {},
     "nuid": "aabef716-b073-41dd-b1aa-0149c937be46",
     "showTitle": false,
     "tableResultSettingsMap": {},
     "title": ""
    }
   },
   "outputs": [],
   "source": [
    "%sql\n",
    "CREATE SCHEMA IF NOT EXISTS cpg_industry.gold_sales;"
   ]
  },
  {
   "cell_type": "code",
   "execution_count": 0,
   "metadata": {
    "application/vnd.databricks.v1+cell": {
     "cellMetadata": {
      "byteLimit": 2048000,
      "rowLimit": 10000
     },
     "inputWidgets": {},
     "nuid": "4c9d3fb2-e46b-4e34-af45-25cf5d8b832a",
     "showTitle": true,
     "tableResultSettingsMap": {
      "0": {
       "dataGridStateBlob": "{\"version\":1,\"tableState\":{\"columnPinning\":{\"left\":[\"#row_number#\"],\"right\":[]},\"columnSizing\":{},\"columnVisibility\":{}},\"settings\":{\"columns\":{}},\"syncTimestamp\":1754848369424}",
       "filterBlob": null,
       "queryPlanFiltersBlob": null,
       "tableResultIndex": 0
      }
     },
     "title": "Consumer Order and Sales KPIs Analysis"
    }
   },
   "outputs": [],
   "source": [
    "%sql\n",
    "WITH OrderMetrics AS (\n",
    "    SELECT\n",
    "        COALESCE(SUM(total_amount), 0) AS total_consumer_sales,\n",
    "        COALESCE(AVG(total_amount), 0) AS average_order_value,\n",
    "        COALESCE(COUNT(order_id), 0) AS total_order_count\n",
    "    FROM cpg_industry.silver.cpg_consumer_order\n",
    "),\n",
    "OrderFrequency AS (\n",
    "    SELECT COALESCE(AVG(order_count), 0) AS order_frequency\n",
    "    FROM (\n",
    "        SELECT consumer_id, COUNT(order_id) AS order_count\n",
    "        FROM cpg_industry.silver.cpg_consumer_order\n",
    "        GROUP BY consumer_id\n",
    "    ) sub\n",
    "),\n",
    "ActiveConsumers AS (\n",
    "    SELECT COALESCE(COUNT(DISTINCT consumer_id), 0) AS active_consumer_count\n",
    "    FROM cpg_industry.silver.cpg_consumer\n",
    "    WHERE is_active = TRUE\n",
    ")\n",
    "SELECT\n",
    "    'Consumer KPIs' AS kpi_name,\n",
    "    ROUND(om.total_consumer_sales, 2) AS total_consumer_sales,\n",
    "    ROUND(om.average_order_value, 2) AS average_order_value,\n",
    "    ROUND(of.order_frequency, 2) AS order_frequency_per_consumer,\n",
    "    ROUND(ac.active_consumer_count, 2) AS active_consumer_count,\n",
    "    ROUND(om.total_order_count, 2) AS total_consumer_order_count\n",
    "FROM OrderMetrics om\n",
    "CROSS JOIN OrderFrequency of\n",
    "CROSS JOIN ActiveConsumers ac;"
   ]
  },
  {
   "cell_type": "code",
   "execution_count": 0,
   "metadata": {
    "application/vnd.databricks.v1+cell": {
     "cellMetadata": {
      "byteLimit": 2048000,
      "rowLimit": 10000
     },
     "inputWidgets": {},
     "nuid": "40a3750d-27ed-49e6-b1c6-28854d1a5279",
     "showTitle": false,
     "tableResultSettingsMap": {},
     "title": ""
    }
   },
   "outputs": [],
   "source": [
    "%sql\n",
    "WITH PurchaseMetrics AS (\n",
    "    SELECT\n",
    "        COALESCE(SUM(total_amount), 0) AS total_distributor_sales,\n",
    "        COALESCE(AVG(total_amount), 0) AS average_purchase_value,\n",
    "        COALESCE(COUNT(purchase_id), 0) AS total_purchase_count\n",
    "    FROM cpg_industry.silver.cpg_distributor_purchases\n",
    "),\n",
    "ActiveDistributors AS (\n",
    "    SELECT COALESCE(COUNT(DISTINCT distributor_id), 0) AS active_distributor_count\n",
    "    FROM cpg_industry.silver.cpg_distributor\n",
    "),\n",
    "InventoryForTopProducts AS (\n",
    "    SELECT COALESCE(SUM(i.quantity_on_hand), 0) AS total_inventory_top_products\n",
    "    FROM cpg_industry.silver.cpg_inventory i\n",
    "    WHERE i.product_id IN (\n",
    "        SELECT product_id\n",
    "        FROM cpg_industry.silver.cpg_distributor_purchase_items\n",
    "        GROUP BY product_id\n",
    "        ORDER BY SUM(total_price) DESC\n",
    "        LIMIT 10\n",
    "    )\n",
    ")\n",
    "SELECT\n",
    "    'Distributor KPIs' AS kpi_name,\n",
    "    ROUND(pm.total_distributor_sales, 2) AS total_distributor_sales,\n",
    "    ROUND(pm.average_purchase_value, 2) AS average_purchase_value,\n",
    "    ROUND(ad.active_distributor_count, 2) AS active_distributor_count,\n",
    "    ROUND(pm.total_purchase_count, 2) AS total_distributor_purchase_count,\n",
    "    ROUND(itp.total_inventory_top_products, 2) AS total_inventory_top_products\n",
    "FROM PurchaseMetrics pm\n",
    "CROSS JOIN ActiveDistributors ad\n",
    "CROSS JOIN InventoryForTopProducts itp;"
   ]
  },
  {
   "cell_type": "markdown",
   "metadata": {
    "application/vnd.databricks.v1+cell": {
     "cellMetadata": {},
     "inputWidgets": {},
     "nuid": "140eab9e-716c-47a9-be5a-c1b9e4a42a2c",
     "showTitle": false,
     "tableResultSettingsMap": {},
     "title": ""
    }
   },
   "source": [
    "### Out_of_Stock"
   ]
  },
  {
   "cell_type": "code",
   "execution_count": 0,
   "metadata": {
    "application/vnd.databricks.v1+cell": {
     "cellMetadata": {
      "byteLimit": 2048000,
      "implicitDf": true,
      "rowLimit": 10000
     },
     "inputWidgets": {},
     "nuid": "4bd4358f-68bf-469a-97c8-e51c7b92a59c",
     "showTitle": true,
     "tableResultSettingsMap": {
      "0": {
       "dataGridStateBlob": "{\"version\":1,\"tableState\":{\"columnPinning\":{\"left\":[\"#row_number#\"],\"right\":[]},\"columnSizing\":{},\"columnVisibility\":{}},\"settings\":{\"columns\":{}},\"syncTimestamp\":1754847648291}",
       "filterBlob": null,
       "queryPlanFiltersBlob": null,
       "tableResultIndex": 0
      }
     },
     "title": "Inventory Stockout Rate for Active Locations"
    }
   },
   "outputs": [],
   "source": [
    "%sql\n",
    "-- CREATE OR REPLACE  TABLE cpg_industry.gold_sales.out_of_stock AS\n",
    "SELECT\n",
    "    -- KPI calculation\n",
    "    COUNT(DISTINCT CASE \n",
    "        WHEN quantity_on_hand = 0 OR inventory_status = 'Low Stock' \n",
    "        THEN product_id \n",
    "    END) AS stockout_count,\n",
    "    \n",
    "    COUNT(DISTINCT product_id) AS total_skus,\n",
    "    \n",
    "    ROUND(\n",
    "        (COUNT(DISTINCT CASE \n",
    "            WHEN quantity_on_hand = 0 OR inventory_status = 'Low Stock' \n",
    "            THEN product_id \n",
    "        END) * 100.0) / COUNT(DISTINCT product_id),\n",
    "        2\n",
    "    ) AS out_of_stock_rate_percentage\n",
    "FROM cpg_industry.silver.cpg_inventory\n",
    "WHERE location_is_active = true;\n"
   ]
  },
  {
   "cell_type": "code",
   "execution_count": 0,
   "metadata": {
    "application/vnd.databricks.v1+cell": {
     "cellMetadata": {
      "byteLimit": 2048000,
      "implicitDf": true,
      "rowLimit": 10000
     },
     "inputWidgets": {},
     "nuid": "f2c71eb2-beb6-4159-b987-a1139a50370c",
     "showTitle": true,
     "tableResultSettingsMap": {
      "0": {
       "dataGridStateBlob": "{\"version\":1,\"tableState\":{\"columnPinning\":{\"left\":[\"#row_number#\"],\"right\":[]},\"columnSizing\":{},\"columnVisibility\":{}},\"settings\":{\"columns\":{}},\"syncTimestamp\":1754847773434}",
       "filterBlob": null,
       "queryPlanFiltersBlob": null,
       "tableResultIndex": 0
      }
     },
     "title": "Customer Lifetime Value Analysis for Active Consumers"
    }
   },
   "outputs": [],
   "source": [
    "%sql\n",
    "-- CREATE OR REPLACE TABLE cpg_industry.gold_sales.gold_clv_consumer AS\n",
    "SELECT\n",
    "    c.name,\n",
    "    c.registration_date,\n",
    "    MIN(o.order_date) AS first_order_date,\n",
    "    MAX(o.order_date) AS last_order_date,\n",
    "    DATEDIFF(MAX(o.order_date), MIN(o.order_date)) AS lifespan_days,\n",
    "    COUNT(DISTINCT o.order_id) AS total_orders,\n",
    "    SUM(i.net_amount) AS total_revenue,\n",
    "    ROUND(SUM(i.net_amount) / COUNT(DISTINCT o.order_id), 2) AS avg_purchase_value,\n",
    "    ROUND(COUNT(DISTINCT o.order_id) / NULLIF(DATEDIFF(MAX(o.order_date), MIN(o.order_date)), 0), 2) AS purchase_frequency,\n",
    "    ROUND(\n",
    "        (SUM(i.net_amount) / COUNT(DISTINCT o.order_id)) *\n",
    "        (COUNT(DISTINCT o.order_id) / NULLIF(DATEDIFF(MAX(o.order_date), MIN(o.order_date)), 0)) *\n",
    "        DATEDIFF(MAX(o.order_date), MIN(o.order_date)), 2\n",
    "    ) AS clv\n",
    "FROM cpg_industry.silver.cpg_consumer c\n",
    "JOIN cpg_industry.silver.cpg_consumer_order o ON c.consumer_id = o.consumer_id\n",
    "JOIN cpg_industry.silver.cpg_consumer_invoice i ON o.order_id = i.order_id\n",
    "WHERE c.is_active = TRUE\n",
    "GROUP BY c.name, c.registration_date;\n"
   ]
  },
  {
   "cell_type": "code",
   "execution_count": 0,
   "metadata": {
    "application/vnd.databricks.v1+cell": {
     "cellMetadata": {
      "byteLimit": 2048000,
      "implicitDf": true,
      "rowLimit": 10000
     },
     "inputWidgets": {},
     "nuid": "800cff89-7b92-4966-811c-67f84cc9aa86",
     "showTitle": true,
     "tableResultSettingsMap": {},
     "title": "B2C Inventory Stockout Rate Calculation"
    }
   },
   "outputs": [],
   "source": [
    "%sql\n",
    "-- B2C Out-of-Stock Rate\n",
    "-- CREATE OR REPLACE TABLE cpg_industry.gold_sales.gold_out_of_stock_rate_b2c AS\n",
    "SELECT\n",
    "    CURRENT_DATE() AS report_date,\n",
    "    COUNT(DISTINCT CASE \n",
    "                      WHEN inv.quantity_on_hand = 0 \n",
    "                           OR LOWER(inv.inventory_status) = 'low stock' \n",
    "                      THEN inv.product_id \n",
    "                   END) AS stockout_count,\n",
    "    COUNT(DISTINCT inv.product_id) AS total_skus,\n",
    "    ROUND(\n",
    "        (COUNT(DISTINCT CASE \n",
    "                           WHEN inv.quantity_on_hand = 0 \n",
    "                                OR LOWER(inv.inventory_status) = 'low stock' \n",
    "                           THEN inv.product_id \n",
    "                        END) * 100.0) \n",
    "        / COUNT(DISTINCT inv.product_id), 2\n",
    "    ) AS out_of_stock_rate\n",
    "FROM cpg_industry.silver.cpg_inventory AS inv\n",
    "JOIN cpg_industry.silver.cpg_product AS p \n",
    "    ON inv.product_id = p.product_id\n",
    "WHERE LOWER(p.product_status) = 'active';\n"
   ]
  },
  {
   "cell_type": "markdown",
   "metadata": {
    "application/vnd.databricks.v1+cell": {
     "cellMetadata": {},
     "inputWidgets": {},
     "nuid": "30d27b36-e9d9-4750-b648-9e7964d41507",
     "showTitle": false,
     "tableResultSettingsMap": {},
     "title": ""
    }
   },
   "source": [
    "### Sales by category"
   ]
  },
  {
   "cell_type": "code",
   "execution_count": 0,
   "metadata": {
    "application/vnd.databricks.v1+cell": {
     "cellMetadata": {
      "byteLimit": 2048000,
      "implicitDf": true,
      "rowLimit": 10000
     },
     "inputWidgets": {},
     "nuid": "9981a6f0-ac1c-4121-a94d-74b0f62653e9",
     "showTitle": true,
     "tableResultSettingsMap": {},
     "title": "Delivered Orders Revenue by Product Category"
    }
   },
   "outputs": [],
   "source": [
    "%sql\n",
    "-- CREATE OR REPLACE TABLE cpg_industry.gold_sales.sales_by_category AS\n",
    "SELECT \n",
    "    p.category AS product_category,\n",
    "    ROUND(SUM(oi.total_price), 2) AS total_revenue\n",
    "FROM cpg_industry.silver.cpg_consumer_order_items oi\n",
    "JOIN cpg_industry.silver.cpg_product p\n",
    "    ON oi.product_id = p.product_id\n",
    "JOIN cpg_industry.silver.cpg_consumer_order o\n",
    "    ON oi.order_id = o.order_id\n",
    "JOIN  cpg_industry.silver.cpg_consumer_invoice i\n",
    "    ON o.order_id = i.order_id\n",
    "WHERE o.order_status = 'Delivered'\n",
    "GROUP BY p.category\n",
    "ORDER BY total_revenue DESC;"
   ]
  }
 ],
 "metadata": {
  "application/vnd.databricks.v1+notebook": {
   "computePreferences": {
    "hardware": {
     "accelerator": null,
     "gpuPoolId": null,
     "memory": null
    }
   },
   "dashboards": [],
   "environmentMetadata": {
    "base_environment": "",
    "environment_version": "2"
   },
   "inputWidgetPreferences": null,
   "language": "python",
   "notebookMetadata": {
    "mostRecentlyExecutedCommandWithImplicitDF": {
     "commandId": -1,
     "dataframes": [
      "_sqldf"
     ]
    },
    "pythonIndentUnit": 4
   },
   "notebookName": "sales_kpi",
   "widgets": {}
  },
  "language_info": {
   "name": "python"
  }
 },
 "nbformat": 4,
 "nbformat_minor": 0
}
