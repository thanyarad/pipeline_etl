{
 "cells": [
  {
   "cell_type": "markdown",
   "metadata": {
    "application/vnd.databricks.v1+cell": {
     "cellMetadata": {},
     "inputWidgets": {},
     "nuid": "140eab9e-716c-47a9-be5a-c1b9e4a42a2c",
     "showTitle": false,
     "tableResultSettingsMap": {},
     "title": ""
    }
   },
   "source": [
    "### Out_of_Stock"
   ]
  },
  {
   "cell_type": "code",
   "execution_count": 0,
   "metadata": {
    "application/vnd.databricks.v1+cell": {
     "cellMetadata": {
      "byteLimit": 2048000,
      "implicitDf": true,
      "rowLimit": 10000
     },
     "inputWidgets": {},
     "nuid": "4bd4358f-68bf-469a-97c8-e51c7b92a59c",
     "showTitle": false,
     "tableResultSettingsMap": {},
     "title": ""
    }
   },
   "outputs": [],
   "source": [
    "%sql\n",
    "CREATE OR REPLACE  TABLE cpg_industry.gold.out_of_stock AS\n",
    "SELECT\n",
    "    -- KPI calculation\n",
    "    COUNT(DISTINCT CASE \n",
    "        WHEN quantity_on_hand = 0 OR inventory_status = 'Low Stock' \n",
    "        THEN product_id \n",
    "    END) AS stockout_count,\n",
    "    \n",
    "    COUNT(DISTINCT product_id) AS total_skus,\n",
    "    \n",
    "    ROUND(\n",
    "        (COUNT(DISTINCT CASE \n",
    "            WHEN quantity_on_hand = 0 OR inventory_status = 'Low Stock' \n",
    "            THEN product_id \n",
    "        END) * 100.0) / COUNT(DISTINCT product_id),\n",
    "        2\n",
    "    ) AS out_of_stock_rate_percentage\n",
    "FROM cpg_industry.silver.cpg_inventory\n",
    "WHERE location_is_active = true;\n"
   ]
  },
  {
   "cell_type": "code",
   "execution_count": 0,
   "metadata": {
    "application/vnd.databricks.v1+cell": {
     "cellMetadata": {
      "byteLimit": 2048000,
      "implicitDf": true,
      "rowLimit": 10000
     },
     "inputWidgets": {},
     "nuid": "f2c71eb2-beb6-4159-b987-a1139a50370c",
     "showTitle": false,
     "tableResultSettingsMap": {},
     "title": ""
    }
   },
   "outputs": [],
   "source": [
    "%sql\n",
    "-- CREATE OR REPLACE TABLE cpg_industry.gold.gold_clv_consumer AS\n",
    "SELECT\n",
    "    c.consumer_id,\n",
    "    c.registration_date,\n",
    "    MIN(o.order_date) AS first_order_date,\n",
    "    MAX(o.order_date) AS last_order_date,\n",
    "    DATEDIFF(MAX(o.order_date), MIN(o.order_date)) AS lifespan_days,\n",
    "    COUNT(DISTINCT o.order_id) AS total_orders,\n",
    "    SUM(i.net_amount) AS total_revenue,\n",
    "    ROUND(SUM(i.net_amount) / COUNT(DISTINCT o.order_id), 2) AS avg_purchase_value,\n",
    "    ROUND(COUNT(DISTINCT o.order_id) / NULLIF(DATEDIFF(MAX(o.order_date), MIN(o.order_date)), 0), 2) AS purchase_frequency,\n",
    "    ROUND(\n",
    "        (SUM(i.net_amount) / COUNT(DISTINCT o.order_id)) *\n",
    "        (COUNT(DISTINCT o.order_id) / NULLIF(DATEDIFF(MAX(o.order_date), MIN(o.order_date)), 0)) *\n",
    "        DATEDIFF(MAX(o.order_date), MIN(o.order_date)), 2\n",
    "    ) AS clv\n",
    "FROM cpg_industry.silver.cpg_consumer c\n",
    "JOIN cpg_industry.silver.cpg_consumer_order o ON c.consumer_id = o.consumer_id\n",
    "JOIN cpg_industry.silver.cpg_consumer_invoice i ON o.order_id = i.order_id\n",
    "WHERE c.is_active = TRUE\n",
    "GROUP BY c.consumer_id, c.registration_date;\n"
   ]
  },
  {
   "cell_type": "code",
   "execution_count": 0,
   "metadata": {
    "application/vnd.databricks.v1+cell": {
     "cellMetadata": {
      "byteLimit": 2048000,
      "implicitDf": true,
      "rowLimit": 10000
     },
     "inputWidgets": {},
     "nuid": "800cff89-7b92-4966-811c-67f84cc9aa86",
     "showTitle": false,
     "tableResultSettingsMap": {},
     "title": ""
    }
   },
   "outputs": [],
   "source": [
    "%sql\n",
    "-- B2C Out-of-Stock Rate\n",
    "-- CREATE OR REPLACE TABLE cpg_industry.gold.gold_out_of_stock_rate_b2c AS\n",
    "SELECT\n",
    "    CURRENT_DATE() AS report_date,\n",
    "    COUNT(DISTINCT CASE \n",
    "                      WHEN inv.quantity_on_hand = 0 \n",
    "                           OR LOWER(inv.inventory_status) = 'low stock' \n",
    "                      THEN inv.product_id \n",
    "                   END) AS stockout_count,\n",
    "    COUNT(DISTINCT inv.product_id) AS total_skus,\n",
    "    ROUND(\n",
    "        (COUNT(DISTINCT CASE \n",
    "                           WHEN inv.quantity_on_hand = 0 \n",
    "                                OR LOWER(inv.inventory_status) = 'low stock' \n",
    "                           THEN inv.product_id \n",
    "                        END) * 100.0) \n",
    "        / COUNT(DISTINCT inv.product_id), 2\n",
    "    ) AS out_of_stock_rate\n",
    "FROM cpg_industry.silver.cpg_inventory AS inv\n",
    "JOIN cpg_industry.silver.cpg_product AS p \n",
    "    ON inv.product_id = p.product_id\n",
    "WHERE LOWER(p.product_status) = 'active';\n"
   ]
  },
  {
   "cell_type": "markdown",
   "metadata": {
    "application/vnd.databricks.v1+cell": {
     "cellMetadata": {},
     "inputWidgets": {},
     "nuid": "30d27b36-e9d9-4750-b648-9e7964d41507",
     "showTitle": false,
     "tableResultSettingsMap": {},
     "title": ""
    }
   },
   "source": [
    "### Sales by category"
   ]
  },
  {
   "cell_type": "code",
   "execution_count": 0,
   "metadata": {
    "application/vnd.databricks.v1+cell": {
     "cellMetadata": {
      "byteLimit": 2048000,
      "implicitDf": true,
      "rowLimit": 10000
     },
     "inputWidgets": {},
     "nuid": "9981a6f0-ac1c-4121-a94d-74b0f62653e9",
     "showTitle": false,
     "tableResultSettingsMap": {},
     "title": ""
    }
   },
   "outputs": [],
   "source": [
    "%sql\n",
    "CREATE OR REPLACE TABLE cpg_industry.gold.sales_by_category AS\n",
    "SELECT \n",
    "    p.category AS product_category,\n",
    "    ROUND(SUM(oi.total_price), 2) AS total_revenue\n",
    "FROM cpg_industry.silver.cpg_order_items oi\n",
    "JOIN cpg_industry.silver.cpg_product p\n",
    "    ON oi.product_id = p.product_id\n",
    "JOIN cpg_industry.silver.cpg_consumer_order o\n",
    "    ON oi.order_id = o.order_id\n",
    "JOIN  cpg_industry.silver.cpg_consumer_invoice i\n",
    "    ON o.order_id = i.order_id\n",
    "WHERE o.order_status = 'Delivered'\n",
    "  AND i.invoice_status = 'Refunded'\n",
    "GROUP BY p.category\n",
    "ORDER BY total_revenue DESC;\n",
    "\n",
    "SELECT * FROM cpg_industry.gold.sales_by_category;"
   ]
  }
 ],
 "metadata": {
  "application/vnd.databricks.v1+notebook": {
   "computePreferences": {
    "hardware": {
     "accelerator": null,
     "gpuPoolId": null,
     "memory": null
    }
   },
   "dashboards": [],
   "environmentMetadata": {
    "base_environment": "",
    "environment_version": "2"
   },
   "inputWidgetPreferences": null,
   "language": "python",
   "notebookMetadata": {
    "mostRecentlyExecutedCommandWithImplicitDF": {
     "commandId": -1,
     "dataframes": [
      "_sqldf"
     ]
    },
    "pythonIndentUnit": 4
   },
   "notebookName": "sales_kpi",
   "widgets": {}
  },
  "language_info": {
   "name": "python"
  }
 },
 "nbformat": 4,
 "nbformat_minor": 0
}
