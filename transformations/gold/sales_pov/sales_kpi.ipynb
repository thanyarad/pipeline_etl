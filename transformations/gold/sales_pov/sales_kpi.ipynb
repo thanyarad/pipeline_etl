{
 "cells": [
  {
   "cell_type": "code",
   "execution_count": 0,
   "metadata": {
    "application/vnd.databricks.v1+cell": {
     "cellMetadata": {
      "byteLimit": 2048000,
      "rowLimit": 10000
     },
     "inputWidgets": {},
     "nuid": "eefa5336-7329-4989-b95e-e02f0be7591a",
     "showTitle": false,
     "tableResultSettingsMap": {},
     "title": ""
    }
   },
   "outputs": [],
   "source": [
    "%sql\n",
    "DROP SCHEMA IF EXISTS cpg_industry.gold CASCADE;"
   ]
  },
  {
   "cell_type": "code",
   "execution_count": 0,
   "metadata": {
    "application/vnd.databricks.v1+cell": {
     "cellMetadata": {
      "byteLimit": 2048000,
      "rowLimit": 10000
     },
     "inputWidgets": {},
     "nuid": "aabef716-b073-41dd-b1aa-0149c937be46",
     "showTitle": false,
     "tableResultSettingsMap": {},
     "title": ""
    }
   },
   "outputs": [],
   "source": [
    "%sql\n",
    "CREATE SCHEMA IF NOT EXISTS cpg_industry.gold;"
   ]
  },
  {
   "cell_type": "code",
   "execution_count": 0,
   "metadata": {
    "application/vnd.databricks.v1+cell": {
     "cellMetadata": {
      "byteLimit": 2048000,
      "rowLimit": 10000
     },
     "inputWidgets": {},
     "nuid": "4c9d3fb2-e46b-4e34-af45-25cf5d8b832a",
     "showTitle": false,
     "tableResultSettingsMap": {},
     "title": ""
    }
   },
   "outputs": [],
   "source": [
    "%sql\n",
    "WITH sales_data AS (\n",
    "    SELECT \n",
    "        oi.product_id,\n",
    "        SUM(oi.total_price) AS total_sales_value,\n",
    "        SUM(oi.quantity) AS total_sold_qty,\n",
    "        COUNT(*) AS total_order_items\n",
    "    FROM cpg_industry.bronze.cpg_consumer_order_items oi\n",
    "    JOIN cpg_industry.bronze.cpg_consumer_order o \n",
    "        ON oi.order_id = o.order_id\n",
    "    GROUP BY oi.product_id\n",
    "),\n",
    "inventory_data AS (\n",
    "    SELECT \n",
    "        inv.product_id,\n",
    "        inv.quantity_on_hand,\n",
    "        p.unit_price,\n",
    "        p.retail_price\n",
    "    FROM cpg_industry.bronze.cpg_inventory inv\n",
    "    JOIN cpg_industry.bronze.cpg_product p \n",
    "        ON inv.product_id = p.product_id\n",
    "),\n",
    "weekly_sales AS (\n",
    "    SELECT \n",
    "        oi.product_id,\n",
    "        SUM(oi.quantity) / COUNT(DISTINCT weekofyear(o.order_date)) AS qty_per_week\n",
    "    FROM cpg_industry.bronze.cpg_consumer_order_items oi\n",
    "    JOIN cpg_industry.bronze.cpg_consumer_order o \n",
    "        ON oi.order_id = o.order_id\n",
    "    GROUP BY oi.product_id\n",
    "),\n",
    "daily_sales AS (\n",
    "    SELECT \n",
    "        oi.product_id,\n",
    "        SUM(oi.quantity) / COUNT(DISTINCT o.order_date) AS qty_per_day\n",
    "    FROM cpg_industry.bronze.cpg_consumer_order_items oi\n",
    "    JOIN cpg_industry.bronze.cpg_consumer_order o \n",
    "        ON oi.order_id = o.order_id\n",
    "    GROUP BY oi.product_id\n",
    ")\n",
    "SELECT\n",
    "    -- 1. Stock to Sales Ratio\n",
    "    ROUND(SUM(inv.quantity_on_hand * inv.retail_price) / NULLIF(SUM(sd.total_sales_value), 0), 2) AS stock_to_sales_ratio,\n",
    "\n",
    "    -- 2. Inventory Turnover Rate\n",
    "    ROUND(SUM(sd.total_sales_value) / NULLIF(SUM(inv.quantity_on_hand * inv.unit_price), 0), 2) AS inventory_turnover_rate,\n",
    "\n",
    "    -- 3. Weeks On-Hand\n",
    "    ROUND(SUM(inv.quantity_on_hand) / NULLIF(AVG(ws.qty_per_week), 0), 2) AS weeks_on_hand,\n",
    "\n",
    "    -- 4. Backorder Rate (%)\n",
    "    ROUND(SUM(CASE WHEN inv.quantity_on_hand < sd.total_sold_qty THEN 1 ELSE 0 END) \n",
    "          / NULLIF(SUM(sd.total_order_items), 0) * 100, 2) AS backorder_rate_percentage,\n",
    "\n",
    "    -- 5. Days Sales in Inventory\n",
    "    ROUND(SUM(inv.quantity_on_hand) / NULLIF(AVG(ds.qty_per_day), 0), 2) AS days_sales_in_inventory,\n",
    "\n",
    "    -- 6. Perfect Order Rate (%)\n",
    "    (\n",
    "        SELECT ROUND(SUM(CASE WHEN order_status = 'Delivered' THEN 1 ELSE 0 END) / COUNT(*) * 100, 2)\n",
    "        FROM cpg_industry.bronze.cpg_consumer_order\n",
    "    ) AS perfect_order_rate_percentage,\n",
    "\n",
    "    -- 7. Sell-Through Rate (%)\n",
    "    ROUND(SUM(sd.total_sold_qty) / NULLIF(SUM(sd.total_sold_qty) + SUM(inv.quantity_on_hand), 0) * 100, 2) AS sell_through_rate_percentage\n",
    "\n",
    "FROM inventory_data inv\n",
    "LEFT JOIN sales_data sd  ON inv.product_id = sd.product_id\n",
    "LEFT JOIN weekly_sales ws ON inv.product_id = ws.product_id\n",
    "LEFT JOIN daily_sales ds  ON inv.product_id = ds.product_id;\n"
   ]
  },
  {
   "cell_type": "markdown",
   "metadata": {
    "application/vnd.databricks.v1+cell": {
     "cellMetadata": {},
     "inputWidgets": {},
     "nuid": "140eab9e-716c-47a9-be5a-c1b9e4a42a2c",
     "showTitle": false,
     "tableResultSettingsMap": {},
     "title": ""
    }
   },
   "source": [
    "### Out_of_Stock"
   ]
  },
  {
   "cell_type": "code",
   "execution_count": 0,
   "metadata": {
    "application/vnd.databricks.v1+cell": {
     "cellMetadata": {
      "byteLimit": 2048000,
      "implicitDf": true,
      "rowLimit": 10000
     },
     "inputWidgets": {},
     "nuid": "4bd4358f-68bf-469a-97c8-e51c7b92a59c",
     "showTitle": false,
     "tableResultSettingsMap": {},
     "title": ""
    }
   },
   "outputs": [],
   "source": [
    "%sql\n",
    "CREATE OR REPLACE  TABLE cpg_industry.gold.out_of_stock AS\n",
    "SELECT\n",
    "    -- KPI calculation\n",
    "    COUNT(DISTINCT CASE \n",
    "        WHEN quantity_on_hand = 0 OR inventory_status = 'Low Stock' \n",
    "        THEN product_id \n",
    "    END) AS stockout_count,\n",
    "    \n",
    "    COUNT(DISTINCT product_id) AS total_skus,\n",
    "    \n",
    "    ROUND(\n",
    "        (COUNT(DISTINCT CASE \n",
    "            WHEN quantity_on_hand = 0 OR inventory_status = 'Low Stock' \n",
    "            THEN product_id \n",
    "        END) * 100.0) / COUNT(DISTINCT product_id),\n",
    "        2\n",
    "    ) AS out_of_stock_rate_percentage\n",
    "FROM cpg_industry.silver.cpg_inventory\n",
    "WHERE location_is_active = true;\n"
   ]
  },
  {
   "cell_type": "code",
   "execution_count": 0,
   "metadata": {
    "application/vnd.databricks.v1+cell": {
     "cellMetadata": {
      "byteLimit": 2048000,
      "implicitDf": true,
      "rowLimit": 10000
     },
     "inputWidgets": {},
     "nuid": "f2c71eb2-beb6-4159-b987-a1139a50370c",
     "showTitle": false,
     "tableResultSettingsMap": {},
     "title": ""
    }
   },
   "outputs": [],
   "source": [
    "%sql\n",
    "-- CREATE OR REPLACE TABLE cpg_industry.gold.gold_clv_consumer AS\n",
    "SELECT\n",
    "    c.consumer_id,\n",
    "    c.registration_date,\n",
    "    MIN(o.order_date) AS first_order_date,\n",
    "    MAX(o.order_date) AS last_order_date,\n",
    "    DATEDIFF(MAX(o.order_date), MIN(o.order_date)) AS lifespan_days,\n",
    "    COUNT(DISTINCT o.order_id) AS total_orders,\n",
    "    SUM(i.net_amount) AS total_revenue,\n",
    "    ROUND(SUM(i.net_amount) / COUNT(DISTINCT o.order_id), 2) AS avg_purchase_value,\n",
    "    ROUND(COUNT(DISTINCT o.order_id) / NULLIF(DATEDIFF(MAX(o.order_date), MIN(o.order_date)), 0), 2) AS purchase_frequency,\n",
    "    ROUND(\n",
    "        (SUM(i.net_amount) / COUNT(DISTINCT o.order_id)) *\n",
    "        (COUNT(DISTINCT o.order_id) / NULLIF(DATEDIFF(MAX(o.order_date), MIN(o.order_date)), 0)) *\n",
    "        DATEDIFF(MAX(o.order_date), MIN(o.order_date)), 2\n",
    "    ) AS clv\n",
    "FROM cpg_industry.silver.cpg_consumer c\n",
    "JOIN cpg_industry.silver.cpg_consumer_order o ON c.consumer_id = o.consumer_id\n",
    "JOIN cpg_industry.silver.cpg_consumer_invoice i ON o.order_id = i.order_id\n",
    "WHERE c.is_active = TRUE\n",
    "GROUP BY c.consumer_id, c.registration_date;\n"
   ]
  },
  {
   "cell_type": "code",
   "execution_count": 0,
   "metadata": {
    "application/vnd.databricks.v1+cell": {
     "cellMetadata": {
      "byteLimit": 2048000,
      "implicitDf": true,
      "rowLimit": 10000
     },
     "inputWidgets": {},
     "nuid": "800cff89-7b92-4966-811c-67f84cc9aa86",
     "showTitle": false,
     "tableResultSettingsMap": {},
     "title": ""
    }
   },
   "outputs": [],
   "source": [
    "%sql\n",
    "-- B2C Out-of-Stock Rate\n",
    "-- CREATE OR REPLACE TABLE cpg_industry.gold.gold_out_of_stock_rate_b2c AS\n",
    "SELECT\n",
    "    CURRENT_DATE() AS report_date,\n",
    "    COUNT(DISTINCT CASE \n",
    "                      WHEN inv.quantity_on_hand = 0 \n",
    "                           OR LOWER(inv.inventory_status) = 'low stock' \n",
    "                      THEN inv.product_id \n",
    "                   END) AS stockout_count,\n",
    "    COUNT(DISTINCT inv.product_id) AS total_skus,\n",
    "    ROUND(\n",
    "        (COUNT(DISTINCT CASE \n",
    "                           WHEN inv.quantity_on_hand = 0 \n",
    "                                OR LOWER(inv.inventory_status) = 'low stock' \n",
    "                           THEN inv.product_id \n",
    "                        END) * 100.0) \n",
    "        / COUNT(DISTINCT inv.product_id), 2\n",
    "    ) AS out_of_stock_rate\n",
    "FROM cpg_industry.silver.cpg_inventory AS inv\n",
    "JOIN cpg_industry.silver.cpg_product AS p \n",
    "    ON inv.product_id = p.product_id\n",
    "WHERE LOWER(p.product_status) = 'active';\n"
   ]
  },
  {
   "cell_type": "markdown",
   "metadata": {
    "application/vnd.databricks.v1+cell": {
     "cellMetadata": {},
     "inputWidgets": {},
     "nuid": "30d27b36-e9d9-4750-b648-9e7964d41507",
     "showTitle": false,
     "tableResultSettingsMap": {},
     "title": ""
    }
   },
   "source": [
    "### Sales by category"
   ]
  },
  {
   "cell_type": "code",
   "execution_count": 0,
   "metadata": {
    "application/vnd.databricks.v1+cell": {
     "cellMetadata": {
      "byteLimit": 2048000,
      "implicitDf": true,
      "rowLimit": 10000
     },
     "inputWidgets": {},
     "nuid": "9981a6f0-ac1c-4121-a94d-74b0f62653e9",
     "showTitle": false,
     "tableResultSettingsMap": {},
     "title": ""
    }
   },
   "outputs": [],
   "source": [
    "%sql\n",
    "CREATE OR REPLACE TABLE cpg_industry.gold.sales_by_category AS\n",
    "SELECT \n",
    "    p.category AS product_category,\n",
    "    ROUND(SUM(oi.total_price), 2) AS total_revenue\n",
    "FROM cpg_industry.silver.cpg_order_items oi\n",
    "JOIN cpg_industry.silver.cpg_product p\n",
    "    ON oi.product_id = p.product_id\n",
    "JOIN cpg_industry.silver.cpg_consumer_order o\n",
    "    ON oi.order_id = o.order_id\n",
    "JOIN  cpg_industry.silver.cpg_consumer_invoice i\n",
    "    ON o.order_id = i.order_id\n",
    "WHERE o.order_status = 'Delivered'\n",
    "  AND i.invoice_status = 'Refunded'\n",
    "GROUP BY p.category\n",
    "ORDER BY total_revenue DESC;\n",
    "\n",
    "SELECT * FROM cpg_industry.gold.sales_by_category;"
   ]
  }
 ],
 "metadata": {
  "application/vnd.databricks.v1+notebook": {
   "computePreferences": {
    "hardware": {
     "accelerator": null,
     "gpuPoolId": null,
     "memory": null
    }
   },
   "dashboards": [],
   "environmentMetadata": {
    "base_environment": "",
    "environment_version": "2"
   },
   "inputWidgetPreferences": null,
   "language": "python",
   "notebookMetadata": {
    "mostRecentlyExecutedCommandWithImplicitDF": {
     "commandId": -1,
     "dataframes": [
      "_sqldf"
     ]
    },
    "pythonIndentUnit": 4
   },
   "notebookName": "sales_kpi",
   "widgets": {}
  },
  "language_info": {
   "name": "python"
  }
 },
 "nbformat": 4,
 "nbformat_minor": 0
}
