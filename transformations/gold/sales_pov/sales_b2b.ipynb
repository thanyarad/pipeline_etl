{
 "cells": [
  {
   "cell_type": "code",
   "execution_count": null,
   "metadata": {},
   "outputs": [],
   "source": [
    "import json\n",
    "with open(\"../../config/metadata.json\", \"r\") as f:\n",
    "    config = json.load(f)"
   ]
  },
  {
   "cell_type": "code",
   "execution_count": 0,
   "metadata": {
    "application/vnd.databricks.v1+cell": {
     "cellMetadata": {
      "byteLimit": 2048000,
      "rowLimit": 10000
     },
     "inputWidgets": {},
     "nuid": "51ca0f54-1e9a-4867-bf64-427be74f4ed5",
     "showTitle": true,
     "tableResultSettingsMap": {},
     "title": "Setting Up Bronze and Silver Schema Configurations"
    }
   },
   "outputs": [],
   "source": [
    "# Configuration\n",
    "catalog = config[\"catalog\"]\n",
    "gold_sales = config[\"gold_sales\"]\n",
    "silver_schema = config[\"silver_schema\"]"
   ]
  },
  {
   "cell_type": "code",
   "execution_count": 0,
   "metadata": {
    "application/vnd.databricks.v1+cell": {
     "cellMetadata": {
      "byteLimit": 2048000,
      "rowLimit": 10000
     },
     "inputWidgets": {},
     "nuid": "804f4d07-dd14-4719-9716-62e9e2dd1e0a",
     "showTitle": false,
     "tableResultSettingsMap": {},
     "title": ""
    }
   },
   "outputs": [],
   "source": [
    "# Drop schema\n",
    "# spark.sql(f\"DROP SCHEMA IF EXISTS {catalog}.{gold_sales} CASCADE\")\n",
    "# spark.sql(f\"DROP TABLE IF EXISTS {catalog}.{gold_sales}.b2b_overall_kpis\")"
   ]
  },
  {
   "cell_type": "code",
   "execution_count": 0,
   "metadata": {
    "application/vnd.databricks.v1+cell": {
     "cellMetadata": {
      "byteLimit": 2048000,
      "rowLimit": 10000
     },
     "inputWidgets": {},
     "nuid": "4c22031f-ef88-47d0-86e6-1a1a94c77086",
     "showTitle": false,
     "tableResultSettingsMap": {},
     "title": ""
    }
   },
   "outputs": [],
   "source": [
    "# Create schema\n",
    "spark.sql(f\"CREATE SCHEMA  IF NOT EXISTS {catalog}.{gold_sales}\")"
   ]
  },
  {
   "cell_type": "markdown",
   "metadata": {
    "application/vnd.databricks.v1+cell": {
     "cellMetadata": {
      "byteLimit": 2048000,
      "rowLimit": 10000
     },
     "inputWidgets": {},
     "nuid": "b3cbc617-134b-4518-b571-aa161ad978ca",
     "showTitle": false,
     "tableResultSettingsMap": {},
     "title": ""
    }
   },
   "source": [
    "### B2B Overall Kpis"
   ]
  },
  {
   "cell_type": "code",
   "execution_count": 0,
   "metadata": {
    "application/vnd.databricks.v1+cell": {
     "cellMetadata": {
      "byteLimit": 2048000,
      "rowLimit": 10000
     },
     "inputWidgets": {},
     "nuid": "b230fae8-9bca-4471-81e3-d6498853ebef",
     "showTitle": false,
     "tableResultSettingsMap": {},
     "title": ""
    }
   },
   "outputs": [],
   "source": [
    "# B2B Overall KPIs\n",
    "spark.sql(f\"\"\"\n",
    "CREATE OR REPLACE TABLE {catalog}.{gold_sales}.b2b_overall_kpis AS\n",
    "WITH base AS (\n",
    "    SELECT\n",
    "        dpi.purchase_item_id,\n",
    "        dpi.product_id,\n",
    "        dpi.quantity_ordered AS quantity,\n",
    "        dpi.unit_cost AS selling_price,\n",
    "        dpi.unit_cost - p.unit_price AS margin,\n",
    "        dpi.unit_cost * dpi.quantity_ordered AS total_amount,\n",
    "        ((dpi.unit_cost - p.unit_price) / dpi.unit_cost) * 100 AS profit_margin,\n",
    "        dpi.purchase_id AS s_pid,\n",
    "        p.product_name,\n",
    "        p.department,\n",
    "        p.category,\n",
    "        p.brand,\n",
    "        p.retail_price,\n",
    "        p.unit_price AS cost_price,\n",
    "        p.release_date,\n",
    "        p.product_status,\n",
    "        dp.purchase_id AS c_pid,\n",
    "        dp.order_date AS ordered_date,\n",
    "        dp.order_status,\n",
    "        dp.total_amount AS total_amount_order,\n",
    "        di.distributor_id,\n",
    "        di.distributor_name,\n",
    "        di.company_name,\n",
    "        di.rating,\n",
    "        di.city,\n",
    "        di.state,\n",
    "        di.country,\n",
    "        i.location_name,\n",
    "        i.inventory_id,\n",
    "        i.quantity_on_hand,\n",
    "        i.inventory_status,\n",
    "        i.reorder_level\n",
    "    FROM {catalog}.{silver_schema}.cpg_distributor_purchase_items dpi\n",
    "    LEFT JOIN {catalog}.{silver_schema}.cpg_distributor_purchases dp ON dpi.purchase_id = dp.purchase_id\n",
    "    LEFT JOIN {catalog}.{silver_schema}.cpg_distributor di ON dp.distributor_id = di.distributor_id\n",
    "    LEFT JOIN {catalog}.{silver_schema}.cpg_product p ON dpi.product_id = p.product_id\n",
    "    LEFT JOIN {catalog}.{silver_schema}.cpg_inventory i ON p.product_id = i.product_id\n",
    "),\n",
    "total_metrics AS (\n",
    "    SELECT\n",
    "        COALESCE(SUM(total_amount), 0) AS total_distributor_sales,\n",
    "        COALESCE(AVG(total_amount), 0) AS average_order_value,\n",
    "        COALESCE(COUNT(DISTINCT purchase_id), 0) AS total_order_count\n",
    "    FROM {catalog}.{silver_schema}.cpg_distributor_purchases\n",
    "),\n",
    "order_frequency AS (\n",
    "    SELECT COALESCE(AVG(order_count), 0) AS order_frequency\n",
    "    FROM (\n",
    "        SELECT distributor_id, COUNT(purchase_id) AS order_count\n",
    "        FROM {catalog}.{silver_schema}.cpg_distributor_purchases\n",
    "        GROUP BY distributor_id\n",
    "    ) sub\n",
    "),\n",
    "active_distributors AS (\n",
    "    SELECT COALESCE(COUNT(DISTINCT distributor_id), 0) AS active_distributor_count\n",
    "    FROM {catalog}.{silver_schema}.cpg_distributor\n",
    "),\n",
    "orders_sales AS (\n",
    "    SELECT\n",
    "        distributor_id,\n",
    "        COUNT(DISTINCT c_pid) AS total_orders,\n",
    "        SUM(total_amount) AS total_sales_revenue,\n",
    "        ROUND(SUM(total_amount) / NULLIF(COUNT(DISTINCT c_pid), 0)) AS avg_order_value\n",
    "    FROM base\n",
    "    GROUP BY distributor_id\n",
    "),\n",
    "sales_category AS (\n",
    "    SELECT distributor_id, category, SUM(total_amount) AS sales_by_category\n",
    "    FROM base\n",
    "    GROUP BY distributor_id, category\n",
    "),\n",
    "sales_brand AS (\n",
    "    SELECT distributor_id, brand, SUM(total_amount) AS sales_by_brand\n",
    "    FROM base\n",
    "    GROUP BY distributor_id, brand\n",
    "),\n",
    "sales_product AS (\n",
    "    SELECT distributor_id, product_id, SUM(total_amount) AS sales_by_product\n",
    "    FROM base\n",
    "    GROUP BY distributor_id, product_id\n",
    "),\n",
    "top_selling AS (\n",
    "    SELECT\n",
    "        distributor_id,\n",
    "        product_id,\n",
    "        SUM(quantity) AS total_qty,\n",
    "        RANK() OVER (PARTITION BY distributor_id ORDER BY SUM(quantity) DESC) AS rnk\n",
    "    FROM base\n",
    "    GROUP BY distributor_id, product_id\n",
    "),\n",
    "top_selling_product AS (\n",
    "    SELECT\n",
    "        t.distributor_id,\n",
    "        t.product_id AS top_product_id,\n",
    "        p.product_name AS top_product_name\n",
    "    FROM top_selling t\n",
    "    JOIN {catalog}.{silver_schema}.cpg_product p ON t.product_id = p.product_id\n",
    "    WHERE rnk = 1\n",
    "),\n",
    "low_stock AS (\n",
    "    SELECT DISTINCT product_id\n",
    "    FROM {catalog}.{silver_schema}.cpg_inventory\n",
    "    WHERE quantity_on_hand < reorder_level\n",
    "),\n",
    "store_revenue AS (\n",
    "    SELECT location_name, SUM(total_amount) AS revenue\n",
    "    FROM base\n",
    "    GROUP BY location_name\n",
    "),\n",
    "monthly_sales AS (\n",
    "    SELECT DATE_TRUNC('month', ordered_date) AS month, SUM(total_amount) AS monthly_sales\n",
    "    FROM base\n",
    "    GROUP BY DATE_TRUNC('month', ordered_date)\n",
    "),\n",
    "clv AS (\n",
    "    SELECT distributor_id, SUM(total_amount) AS customer_lifetime_value\n",
    "    FROM base\n",
    "    GROUP BY distributor_id\n",
    ")\n",
    "SELECT\n",
    "    p.purchase_item_id,\n",
    "    p.product_id,\n",
    "    p.quantity,\n",
    "    p.selling_price,\n",
    "    p.total_amount,\n",
    "    p.s_pid,\n",
    "    p.product_name,\n",
    "    p.department,\n",
    "    p.category,\n",
    "    p.brand,\n",
    "    p.retail_price,\n",
    "    p.cost_price,\n",
    "    p.release_date,\n",
    "    p.product_status,\n",
    "    p.c_pid,\n",
    "    p.ordered_date,\n",
    "    p.order_status,\n",
    "    p.total_amount_order,\n",
    "    p.distributor_id,\n",
    "    p.distributor_name,\n",
    "    p.company_name,\n",
    "    p.rating,\n",
    "    p.city,\n",
    "    p.state,\n",
    "    p.country,\n",
    "    p.location_name,\n",
    "    p.inventory_id,\n",
    "    p.quantity_on_hand,\n",
    "    p.inventory_status,\n",
    "    p.reorder_level,\n",
    "    o.total_orders,\n",
    "    o.total_sales_revenue,\n",
    "    o.avg_order_value,\n",
    "    sc.sales_by_category,\n",
    "    sb.sales_by_brand,\n",
    "    sp.sales_by_product,\n",
    "    ts.top_product_id,\n",
    "    ts.top_product_name,\n",
    "    CASE WHEN ls.product_id IS NOT NULL THEN 1 ELSE 0 END AS is_low_stock,\n",
    "    sr.revenue AS store_revenue,\n",
    "    ms.month,\n",
    "    ms.monthly_sales,\n",
    "    c.customer_lifetime_value,\n",
    "    tm.total_distributor_sales,\n",
    "    ROUND(tm.average_order_value) AS global_average_order_value,\n",
    "    tm.total_order_count,\n",
    "    ROUND(of.order_frequency) AS avg_order_frequency_per_distributor,\n",
    "    ad.active_distributor_count\n",
    "FROM base p\n",
    "LEFT JOIN orders_sales o ON p.distributor_id = o.distributor_id\n",
    "LEFT JOIN sales_category sc ON p.distributor_id = sc.distributor_id AND p.category = sc.category\n",
    "LEFT JOIN sales_brand sb ON p.distributor_id = sb.distributor_id AND p.brand = sb.brand\n",
    "LEFT JOIN sales_product sp ON p.distributor_id = sp.distributor_id AND p.product_id = sp.product_id\n",
    "LEFT JOIN top_selling_product ts ON p.distributor_id = ts.distributor_id\n",
    "LEFT JOIN low_stock ls ON p.product_id = ls.product_id\n",
    "LEFT JOIN store_revenue sr ON p.department = sr.location_name\n",
    "LEFT JOIN monthly_sales ms ON DATE_TRUNC('month', p.ordered_date) = ms.month\n",
    "LEFT JOIN clv c ON p.distributor_id = c.distributor_id\n",
    "CROSS JOIN total_metrics tm\n",
    "CROSS JOIN order_frequency of\n",
    "CROSS JOIN active_distributors ad;\n",
    "\"\"\")"
   ]
  }
 ],
 "metadata": {
  "application/vnd.databricks.v1+notebook": {
   "computePreferences": null,
   "dashboards": [],
   "environmentMetadata": {
    "base_environment": "",
    "environment_version": "2"
   },
   "inputWidgetPreferences": null,
   "language": "python",
   "notebookMetadata": {
    "mostRecentlyExecutedCommandWithImplicitDF": {
     "commandId": 8750138333238367,
     "dataframes": [
      "_sqldf"
     ]
    },
    "pythonIndentUnit": 4
   },
   "notebookName": "sales_b2b",
   "widgets": {}
  },
  "language_info": {
   "name": "python"
  }
 },
 "nbformat": 4,
 "nbformat_minor": 0
}
