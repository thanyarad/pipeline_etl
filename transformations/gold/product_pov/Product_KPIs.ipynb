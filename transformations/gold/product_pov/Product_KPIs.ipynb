{
 "cells": [
  {
   "cell_type": "code",
   "execution_count": 0,
   "metadata": {
    "application/vnd.databricks.v1+cell": {
     "cellMetadata": {},
     "inputWidgets": {},
     "nuid": "c4983bd0-eab8-40db-b5f1-44947cf7f3d6",
     "showTitle": false,
     "tableResultSettingsMap": {},
     "title": ""
    }
   },
   "outputs": [],
   "source": [
    "%sql\n",
    "CREATE TABLE cpg_industry.gold.product_kpi AS\n",
    "(\n",
    "WITH product_b2c AS (\n",
    "    SELECT\n",
    "        coi.order_item_id,\n",
    "        coi.product_id,\n",
    "        coi.quantity,\n",
    "        coi.unit_price AS selling_price,\n",
    "        coi.unit_price - p.unit_price AS margin,\n",
    "        coi.unit_price * coi.quantity AS total_amount,\n",
    "        ((coi.unit_price - p.unit_price) / coi.unit_price) * 100 AS profit_margin,\n",
    "        coi.order_id as s_oid,\n",
    "        p.product_name,\n",
    "        p.department,\n",
    "        p.category,\n",
    "        p.brand,\n",
    "        p.retail_price,\n",
    "        p.unit_price AS cost_price,\n",
    "        p.release_date,\n",
    "        p.expiration_days,\n",
    "        p.product_status,\n",
    "        co.order_id as c_oid,\n",
    "        co.order_date as ordered_date,\n",
    "        co.order_status,\n",
    "        co.total_amount as total_amount_order,\n",
    "        co.payment_method,\n",
    "        c.name,\n",
    "        c.gender,\n",
    "        c.age,\n",
    "        c.registration_date,\n",
    "        c.is_active,\n",
    "        c.city,\n",
    "        c.state,\n",
    "        c.country\n",
    "    FROM cpg_industry.gold.cpg_order_items coi\n",
    "    LEFT JOIN cpg_industry.gold.cpg_consumer_order co ON coi.order_id = co.order_id\n",
    "    LEFT JOIN cpg_industry.gold.cpg_consumer c ON co.consumer_id = c.consumer_id\n",
    "    LEFT JOIN cpg_industry.gold.cpg_product p ON coi.product_id = p.product_id\n",
    ")\n",
    "SELECT * FROM product_b2c\n",
    ");"
   ]
  }
 ],
 "metadata": {
  "application/vnd.databricks.v1+notebook": {
   "computePreferences": null,
   "dashboards": [],
   "environmentMetadata": {
    "base_environment": "",
    "environment_version": "2"
   },
   "inputWidgetPreferences": null,
   "language": "python",
   "notebookMetadata": {
    "pythonIndentUnit": 4
   },
   "notebookName": "Product_KPIs",
   "widgets": {}
  },
  "language_info": {
   "name": "python"
  }
 },
 "nbformat": 4,
 "nbformat_minor": 0
}
