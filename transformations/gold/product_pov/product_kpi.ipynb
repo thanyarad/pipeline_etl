{
 "cells": [
  {
   "cell_type": "code",
   "execution_count": 0,
   "metadata": {
    "application/vnd.databricks.v1+cell": {
     "cellMetadata": {
      "byteLimit": 2048000,
      "rowLimit": 10000
     },
     "inputWidgets": {},
     "nuid": "b8870400-3a8b-4f9f-bb67-61c9ae8db5d2",
     "showTitle": false,
     "tableResultSettingsMap": {},
     "title": ""
    }
   },
   "outputs": [],
   "source": [
    "# Configuration\n",
    "catalog = \"cpg_industry\"\n",
    "gold_product = \"gold_product\"\n",
    "silver_schema = \"silver\""
   ]
  },
  {
   "cell_type": "code",
   "execution_count": 0,
   "metadata": {
    "application/vnd.databricks.v1+cell": {
     "cellMetadata": {
      "byteLimit": 2048000,
      "implicitDf": true,
      "rowLimit": 10000
     },
     "inputWidgets": {},
     "nuid": "d4cad586-7639-4924-80d4-853251e130fa",
     "showTitle": false,
     "tableResultSettingsMap": {},
     "title": ""
    }
   },
   "outputs": [],
   "source": [
    "# Drop schema\n",
    "# spark.sql(f\"DROP SCHEMA IF EXISTS {catalog}.{gold_product} CASCADE\")"
   ]
  },
  {
   "cell_type": "code",
   "execution_count": 0,
   "metadata": {
    "application/vnd.databricks.v1+cell": {
     "cellMetadata": {
      "byteLimit": 2048000,
      "implicitDf": true,
      "rowLimit": 10000
     },
     "inputWidgets": {},
     "nuid": "5751e2af-aaef-4c01-8309-3da3ce4523ca",
     "showTitle": false,
     "tableResultSettingsMap": {},
     "title": ""
    }
   },
   "outputs": [],
   "source": [
    "# Create schema\n",
    "spark.sql(f\"CREATE SCHEMA IF NOT EXISTS {catalog}.{gold_product}\")"
   ]
  },
  {
   "cell_type": "code",
   "execution_count": 0,
   "metadata": {
    "application/vnd.databricks.v1+cell": {
     "cellMetadata": {
      "byteLimit": 2048000,
      "implicitDf": true,
      "rowLimit": 10000
     },
     "inputWidgets": {},
     "nuid": "17be61fb-7012-4799-8f5f-5a1f8143042f",
     "showTitle": true,
     "tableResultSettingsMap": {},
     "title": "Generate B2C Product Table with Sales and Profit Data"
    }
   },
   "outputs": [],
   "source": [
    "# Generate B2C Product Table with Sales and Profit Data\n",
    "b2c_sql = f\"\"\"\n",
    "CREATE TABLE {catalog}.{gold_product}.product_overall_b2c AS\n",
    "WITH product_b2c AS (\n",
    "    SELECT\n",
    "        coi.order_item_id,\n",
    "        coi.product_id,\n",
    "        coi.quantity,\n",
    "        coi.unit_price AS selling_price,\n",
    "        coi.unit_price - p.unit_price AS margin,\n",
    "        coi.unit_price * coi.quantity AS total_amount,\n",
    "        ((coi.unit_price - p.unit_price) / coi.unit_price) * 100 AS profit_margin,\n",
    "        coi.order_id as s_oid,\n",
    "        p.product_name,\n",
    "        p.department,\n",
    "        p.category,\n",
    "        p.brand,\n",
    "        p.retail_price,\n",
    "        p.unit_price AS cost_price,\n",
    "        p.release_date,\n",
    "        p.product_status,\n",
    "        co.order_id as c_oid,\n",
    "        co.order_date as ordered_date,\n",
    "        co.order_status,\n",
    "        co.total_amount as total_amount_order,\n",
    "        co.payment_method,\n",
    "        c.name,\n",
    "        c.gender,\n",
    "        c.age,\n",
    "        c.registration_date,\n",
    "        c.is_active,\n",
    "        c.city,\n",
    "        c.state,\n",
    "        c.country\n",
    "    FROM {catalog}.{silver_schema}.cpg_consumer_order_items coi\n",
    "    LEFT JOIN {catalog}.{silver_schema}.cpg_consumer_order co ON coi.order_id = co.order_id\n",
    "    LEFT JOIN {catalog}.{silver_schema}.cpg_consumer c ON co.consumer_id = c.consumer_id\n",
    "    LEFT JOIN {catalog}.{silver_schema}.cpg_product p ON coi.product_id = p.product_id\n",
    ")\n",
    "SELECT * FROM product_b2c;\n",
    "\"\"\"\n",
    "spark.sql(b2c_sql)\n",
    "\n",
    "display(spark.sql(f\"SELECT * FROM {catalog}.{gold_product}.product_overall_b2c\"))"
   ]
  },
  {
   "cell_type": "code",
   "execution_count": 0,
   "metadata": {
    "application/vnd.databricks.v1+cell": {
     "cellMetadata": {
      "byteLimit": 2048000,
      "implicitDf": true,
      "rowLimit": 10000
     },
     "inputWidgets": {},
     "nuid": "4fea5de1-2daa-4f87-9e07-4c925376a996",
     "showTitle": true,
     "tableResultSettingsMap": {},
     "title": "Generate B2B Product Table with Pricing and Margin Data"
    }
   },
   "outputs": [],
   "source": [
    "# Generate B2B Product Table with Pricing and Margin Data\n",
    "b2b_sql = f\"\"\"\n",
    "CREATE TABLE {catalog}.{gold_product}.product_overall_b2b AS\n",
    "SELECT pi.purchase_item_id,\n",
    "       pi.purchase_id,\n",
    "       pi.product_id,\n",
    "       pi.quantity_ordered,\n",
    "       round(pi.unit_cost,2) as selling_price,\n",
    "       (pi.unit_cost - p.unit_price) as margin,\n",
    "       round(pi.unit_cost * pi.quantity_ordered,2) as total_amount,\n",
    "       ((pi.unit_cost - p.unit_price) / pi.unit_cost) * 100 as profit_margin,\n",
    "       p.product_name,\n",
    "       p.category,\n",
    "       p.brand,\n",
    "       p.retail_price,\n",
    "       round(p.unit_price,2) as cost_price,\n",
    "       p.release_date,\n",
    "       p.product_status,\n",
    "       d.distributor_id,\n",
    "       d.company_name,\n",
    "       d.city,\n",
    "       d.state,\n",
    "       d.country,\n",
    "       d.distributor_name\n",
    "FROM {catalog}.bronze.cpg_distributor_purchase_items pi\n",
    "LEFT JOIN {catalog}.{silver_schema}.cpg_distributor_purchases dp ON pi.purchase_id = dp.purchase_id\n",
    "LEFT JOIN {catalog}.{silver_schema}.cpg_distributor d ON dp.distributor_id = d.distributor_id\n",
    "LEFT JOIN {catalog}.bronze.cpg_product p ON p.product_id = pi.product_id;\n",
    "\"\"\"\n",
    "spark.sql(b2b_sql)\n",
    "\n",
    "display(spark.sql(f\"SELECT * FROM {catalog}.{gold_product}.product_overall_b2b\"))"
   ]
  }
 ],
 "metadata": {
  "application/vnd.databricks.v1+notebook": {
   "computePreferences": {
    "hardware": {
     "accelerator": null,
     "gpuPoolId": null,
     "memory": null
    }
   },
   "dashboards": [],
   "environmentMetadata": {
    "base_environment": "",
    "environment_version": "2"
   },
   "inputWidgetPreferences": null,
   "language": "python",
   "notebookMetadata": {
    "mostRecentlyExecutedCommandWithImplicitDF": {
     "commandId": 7740350315814024,
     "dataframes": [
      "_sqldf"
     ]
    },
    "pythonIndentUnit": 4
   },
   "notebookName": "product_kpi",
   "widgets": {}
  },
  "language_info": {
   "name": "python"
  }
 },
 "nbformat": 4,
 "nbformat_minor": 0
}
