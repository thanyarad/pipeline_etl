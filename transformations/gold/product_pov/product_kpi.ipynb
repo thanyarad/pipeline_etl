{
 "cells": [
  {
   "cell_type": "code",
   "execution_count": 0,
   "metadata": {
    "application/vnd.databricks.v1+cell": {
     "cellMetadata": {
      "byteLimit": 2048000,
      "implicitDf": true,
      "rowLimit": 10000
     },
     "inputWidgets": {},
     "nuid": "d4cad586-7639-4924-80d4-853251e130fa",
     "showTitle": false,
     "tableResultSettingsMap": {},
     "title": ""
    }
   },
   "outputs": [],
   "source": [
    "%sql\n",
    "DROP SCHEMA IF EXISTS cpg_industry.gold_product CASCADE;"
   ]
  },
  {
   "cell_type": "code",
   "execution_count": 0,
   "metadata": {
    "application/vnd.databricks.v1+cell": {
     "cellMetadata": {
      "byteLimit": 2048000,
      "implicitDf": true,
      "rowLimit": 10000
     },
     "inputWidgets": {},
     "nuid": "5751e2af-aaef-4c01-8309-3da3ce4523ca",
     "showTitle": false,
     "tableResultSettingsMap": {},
     "title": ""
    }
   },
   "outputs": [],
   "source": [
    "%sql\n",
    "CREATE SCHEMA IF NOT EXISTS cpg_industry.gold_product;"
   ]
  },
  {
   "cell_type": "code",
   "execution_count": 0,
   "metadata": {
    "application/vnd.databricks.v1+cell": {
     "cellMetadata": {
      "byteLimit": 2048000,
      "implicitDf": true,
      "rowLimit": 10000
     },
     "inputWidgets": {},
     "nuid": "c4983bd0-eab8-40db-b5f1-44947cf7f3d6",
     "showTitle": false,
     "tableResultSettingsMap": {
      "0": {
       "dataGridStateBlob": "{\"version\":1,\"tableState\":{\"columnPinning\":{\"left\":[\"#row_number#\"],\"right\":[]},\"columnSizing\":{},\"columnVisibility\":{}},\"settings\":{\"columns\":{}},\"syncTimestamp\":1754848875337}",
       "filterBlob": null,
       "queryPlanFiltersBlob": null,
       "tableResultIndex": 0
      }
     },
     "title": ""
    }
   },
   "outputs": [],
   "source": [
    "%sql\n",
    "-- CREATE TABLE cpg_industry.gold_product.product_kpi AS\n",
    "WITH product_metrics AS (\n",
    "    SELECT\n",
    "        p.product_id,\n",
    "        p.product_name,\n",
    "        p.category,\n",
    "        p.brand,\n",
    "        ROUND(SUM(coi.quantity * coi.unit_price), 2) AS gross_revenue,\n",
    "        ROUND(SUM((coi.unit_price - p.unit_price) * coi.quantity), 2) AS gross_profit,\n",
    "        SUM(coi.quantity) AS sales_volume,\n",
    "        ROUND(SUM((coi.unit_price - p.unit_price) * coi.quantity) / \n",
    "              NULLIF(SUM(coi.quantity * coi.unit_price),0) * 100, 2) AS gross_margin_pct,\n",
    "        COUNT(DISTINCT c.consumer_id) AS total_customers,\n",
    "        COUNT(DISTINCT CASE WHEN c.is_active THEN c.consumer_id END) AS retained_customers,\n",
    "        ROUND(COUNT(DISTINCT CASE WHEN NOT c.is_active THEN c.consumer_id END) * 100.0 /\n",
    "              NULLIF(COUNT(DISTINCT c.consumer_id),0), 2) AS churn_rate_pct\n",
    "    FROM cpg_industry.silver.cpg_consumer_order_items coi\n",
    "    JOIN cpg_industry.silver.cpg_product p ON coi.product_id = p.product_id\n",
    "    JOIN cpg_industry.silver.cpg_consumer_order co ON coi.order_id = co.order_id\n",
    "    JOIN cpg_industry.silver.cpg_consumer c ON co.consumer_id = c.consumer_id\n",
    "    GROUP BY p.product_id, p.product_name, p.category, p.brand\n",
    ")\n",
    "SELECT * FROM product_metrics;\n"
   ]
  }
 ],
 "metadata": {
  "application/vnd.databricks.v1+notebook": {
   "computePreferences": null,
   "dashboards": [],
   "environmentMetadata": {
    "base_environment": "",
    "environment_version": "2"
   },
   "inputWidgetPreferences": null,
   "language": "python",
   "notebookMetadata": {
    "mostRecentlyExecutedCommandWithImplicitDF": {
     "commandId": 8795035175206107,
     "dataframes": [
      "_sqldf"
     ]
    },
    "pythonIndentUnit": 4
   },
   "notebookName": "product_kpi",
   "widgets": {}
  },
  "language_info": {
   "name": "python"
  }
 },
 "nbformat": 4,
 "nbformat_minor": 0
}
