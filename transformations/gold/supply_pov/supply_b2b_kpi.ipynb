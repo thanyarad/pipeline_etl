{
 "cells": [
  {
   "cell_type": "code",
   "execution_count": 0,
   "metadata": {
    "application/vnd.databricks.v1+cell": {
     "cellMetadata": {
      "byteLimit": 2048000,
      "rowLimit": 10000
     },
     "inputWidgets": {},
     "nuid": "bd1dfabb-a6d3-4ca5-b74f-7387992c4a86",
     "showTitle": true,
     "tableResultSettingsMap": {},
     "title": "Dropping Existing Supply Chain Tables"
    }
   },
   "outputs": [],
   "source": [
    "%sql\n",
    "DROP TABLE IF EXISTS cpg_industry.gold_supply.supply_b2b_kpi;\n",
    "DROP TABLE IF EXISTS cpg_industry.gold_supply.supply_b2b_monthly_purchase_summary;\n",
    "DROP TABLE IF EXISTS cpg_industry.gold_supply.supply_b2b_top_distributor_purchase_value;\n",
    "DROP TABLE IF EXISTS cpg_industry.gold_supply.supply_b2b_category_quantity_ordered;\n",
    "DROP TABLE IF EXISTS cpg_industry.gold_supply.supply_b2b_order_status_summary;\n",
    "DROP TABLE IF EXISTS cpg_industry.gold_supply.supply_top_inventory_products;\n",
    "DROP TABLE IF EXISTS cpg_industry.gold_supply.supply_inventory_status_summary;\n",
    "DROP TABLE IF EXISTS cpg_industry.gold_supply.supply_low_stock_products;\n",
    "DROP TABLE IF EXISTS cpg_industry.gold_supply.supply_location_inventory_quantity;"
   ]
  },
  {
   "cell_type": "code",
   "execution_count": 0,
   "metadata": {
    "application/vnd.databricks.v1+cell": {
     "cellMetadata": {
      "byteLimit": 2048000,
      "rowLimit": 10000
     },
     "inputWidgets": {},
     "nuid": "874cc257-5f8a-4763-806d-5aa367922565",
     "showTitle": true,
     "tableResultSettingsMap": {},
     "title": "Creating Schema for CPG Industry Gold Data"
    }
   },
   "outputs": [],
   "source": [
    "%sql\n",
    "CREATE SCHEMA IF NOT EXISTS cpg_industry.gold_supply;"
   ]
  },
  {
   "cell_type": "code",
   "execution_count": 0,
   "metadata": {
    "application/vnd.databricks.v1+cell": {
     "cellMetadata": {
      "byteLimit": 2048000,
      "rowLimit": 10000
     },
     "inputWidgets": {},
     "nuid": "4dc443eb-0510-48e2-8cd7-037904c333e8",
     "showTitle": true,
     "tableResultSettingsMap": {},
     "title": "Supply Chain KPI Analysis for Current Date"
    }
   },
   "outputs": [],
   "source": [
    "%sql\n",
    "CREATE TABLE cpg_industry.gold_supply.supply_b2b_kpi AS\n",
    "WITH base_data AS (\n",
    "    SELECT\n",
    "        i.product_id,\n",
    "        i.quantity_on_hand,\n",
    "        p.retail_price,\n",
    "        coi.total_price,\n",
    "        coi.quantity_ordered,\n",
    "        o.order_status,\n",
    "        o.order_date,\n",
    "        co.purchase_id AS co_order_id\n",
    "    FROM cpg_industry.silver.cpg_inventory i\n",
    "    JOIN cpg_industry.silver.cpg_product p \n",
    "        ON i.product_id = p.product_id\n",
    "    JOIN cpg_industry.silver.cpg_distributor_purchase_items coi \n",
    "        ON p.product_id = coi.product_id\n",
    "    JOIN cpg_industry.silver.cpg_distributor_purchases o \n",
    "        ON coi.purchase_id = o.purchase_id\n",
    "    JOIN cpg_industry.silver.cpg_distributor_purchases co \n",
    "        ON o.purchase_id = co.purchase_id\n",
    "),\n",
    "agg_level1 AS (\n",
    "    SELECT\n",
    "        CURRENT_DATE() AS kpi_date,\n",
    "        SUM(quantity_on_hand * retail_price) AS inventory_value,\n",
    "        SUM(total_price) AS total_sales_value,\n",
    "        SUM(quantity_ordered) AS total_quantity_sold,\n",
    "        AVG(quantity_on_hand) AS avg_quantity_on_hand,\n",
    "        COUNT(DISTINCT co_order_id) AS total_orders,\n",
    "        SUM(CASE WHEN order_status = 'Cancelled' THEN 1 ELSE 0 END) AS backorder_count,\n",
    "        COUNT(*) AS total_order_lines,\n",
    "        AVG(DATEDIFF(CURRENT_DATE(), order_date)) AS avg_days_sales_inventory\n",
    "    FROM base_data\n",
    ")\n",
    "SELECT\n",
    "    kpi_date,\n",
    "    ROUND(inventory_value / NULLIF(total_sales_value, 0), 2) AS stock_to_sales_ratio,\n",
    "    ROUND(total_quantity_sold * 100 / NULLIF(avg_quantity_on_hand, 0), 2) AS inventory_turnover_rate,\n",
    "    ROUND(avg_quantity_on_hand / NULLIF(total_quantity_sold / NULLIF(total_orders, 0), 0), 2) AS weeks_on_hand,\n",
    "    ROUND(backorder_count * 100.0 / NULLIF(total_order_lines, 0), 2) AS backorder_rate_pct,\n",
    "    ROUND(avg_days_sales_inventory, 2) AS days_sales_in_inventory\n",
    "FROM agg_level1;\n"
   ]
  },
  {
   "cell_type": "code",
   "execution_count": 0,
   "metadata": {
    "application/vnd.databricks.v1+cell": {
     "cellMetadata": {
      "byteLimit": 2048000,
      "rowLimit": 10000
     },
     "inputWidgets": {},
     "nuid": "e0c640b8-117d-4960-80e0-cf120ca96e1d",
     "showTitle": true,
     "tableResultSettingsMap": {
      "0": {
       "dataGridStateBlob": "{\"version\":1,\"tableState\":{\"columnPinning\":{\"left\":[\"#row_number#\"],\"right\":[]},\"columnSizing\":{},\"columnVisibility\":{}},\"settings\":{\"columns\":{}},\"syncTimestamp\":1754829252680}",
       "filterBlob": null,
       "queryPlanFiltersBlob": null,
       "tableResultIndex": 0
      }
     },
     "title": "Monthly Purchase Totals by Order Date"
    }
   },
   "outputs": [],
   "source": [
    "%sql\n",
    "CREATE TABLE cpg_industry.gold_supply.supply_b2b_monthly_purchase_summary AS\n",
    "SELECT\n",
    "    DATE_TRUNC('month', p.order_date) AS order_month,\n",
    "    ROUND(SUM(p.total_amount),2) AS total_purchase_amount\n",
    "FROM cpg_industry.silver.cpg_distributor_purchases p\n",
    "GROUP BY DATE_TRUNC('month', p.order_date)\n",
    "ORDER BY order_month;"
   ]
  },
  {
   "cell_type": "code",
   "execution_count": 0,
   "metadata": {
    "application/vnd.databricks.v1+cell": {
     "cellMetadata": {
      "byteLimit": 2048000,
      "rowLimit": 10000
     },
     "inputWidgets": {},
     "nuid": "fb743f9d-c0ed-4e40-9d77-8c1cab03169a",
     "showTitle": true,
     "tableResultSettingsMap": {
      "0": {
       "dataGridStateBlob": "{\"version\":1,\"tableState\":{\"columnPinning\":{\"left\":[\"#row_number#\"],\"right\":[]},\"columnSizing\":{},\"columnVisibility\":{}},\"settings\":{\"columns\":{}},\"syncTimestamp\":1754829255813}",
       "filterBlob": null,
       "queryPlanFiltersBlob": null,
       "tableResultIndex": 0
      }
     },
     "title": "Top Distributors by Purchase Value"
    }
   },
   "outputs": [],
   "source": [
    "%sql\n",
    "CREATE TABLE cpg_industry.gold_supply.supply_b2b_top_distributor_purchase_value AS\n",
    "SELECT \n",
    "    d.distributor_name,\n",
    "    ROUND(SUM(p.total_amount),2) AS total_purchase_value\n",
    "FROM cpg_industry.silver.cpg_distributor d\n",
    "JOIN cpg_industry.silver.cpg_distributor_purchases p\n",
    "    ON d.distributor_id = p.distributor_id\n",
    "GROUP BY d.distributor_name\n",
    "ORDER BY total_purchase_value DESC;"
   ]
  },
  {
   "cell_type": "code",
   "execution_count": 0,
   "metadata": {
    "application/vnd.databricks.v1+cell": {
     "cellMetadata": {
      "byteLimit": 2048000,
      "rowLimit": 10000
     },
     "inputWidgets": {},
     "nuid": "ed6cb59f-6ac8-4c87-8e06-9e2b8d88424b",
     "showTitle": true,
     "tableResultSettingsMap": {
      "0": {
       "dataGridStateBlob": "{\"version\":1,\"tableState\":{\"columnPinning\":{\"left\":[\"#row_number#\"],\"right\":[]},\"columnSizing\":{},\"columnVisibility\":{}},\"settings\":{\"columns\":{}},\"syncTimestamp\":1754829258618}",
       "filterBlob": null,
       "queryPlanFiltersBlob": null,
       "tableResultIndex": 0
      }
     },
     "title": "Product Categories by Total Quantity Ordered"
    }
   },
   "outputs": [],
   "source": [
    "%sql\n",
    "CREATE TABLE cpg_industry.gold_supply.supply_b2b_category_quantity_ordered AS\n",
    "SELECT \n",
    "    pr.category,\n",
    "    SUM(pi.quantity_ordered) AS total_quantity_ordered\n",
    "FROM cpg_industry.silver.cpg_distributor_purchase_items pi\n",
    "JOIN cpg_industry.silver.cpg_product pr\n",
    "    ON pi.product_id = pr.product_id\n",
    "GROUP BY pr.category\n",
    "ORDER BY total_quantity_ordered DESC;"
   ]
  },
  {
   "cell_type": "code",
   "execution_count": 0,
   "metadata": {
    "application/vnd.databricks.v1+cell": {
     "cellMetadata": {
      "byteLimit": 2048000,
      "rowLimit": 10000
     },
     "inputWidgets": {},
     "nuid": "ac98fdec-aa54-4997-96e8-7e63ecaf29ef",
     "showTitle": true,
     "tableResultSettingsMap": {
      "0": {
       "dataGridStateBlob": "{\"version\":1,\"tableState\":{\"columnPinning\":{\"left\":[\"#row_number#\"],\"right\":[]},\"columnSizing\":{},\"columnVisibility\":{}},\"settings\":{\"columns\":{}},\"syncTimestamp\":1754829260897}",
       "filterBlob": null,
       "queryPlanFiltersBlob": null,
       "tableResultIndex": 0
      }
     },
     "title": "Top Products by Inventory Quantity"
    }
   },
   "outputs": [],
   "source": [
    "%sql\n",
    "CREATE TABLE cpg_industry.gold_supply.supply_top_inventory_products AS\n",
    "SELECT \n",
    "    pr.product_name,\n",
    "    inv.quantity_on_hand\n",
    "FROM cpg_industry.silver.cpg_inventory inv\n",
    "JOIN cpg_industry.silver.cpg_product pr\n",
    "    ON inv.product_id = pr.product_id\n",
    "ORDER BY inv.quantity_on_hand DESC\n",
    "LIMIT 10;"
   ]
  },
  {
   "cell_type": "code",
   "execution_count": 0,
   "metadata": {
    "application/vnd.databricks.v1+cell": {
     "cellMetadata": {
      "byteLimit": 2048000,
      "rowLimit": 10000
     },
     "inputWidgets": {},
     "nuid": "17c28b13-43c0-4834-b530-8042a15b9a94",
     "showTitle": true,
     "tableResultSettingsMap": {
      "0": {
       "dataGridStateBlob": "{\"version\":1,\"tableState\":{\"columnPinning\":{\"left\":[\"#row_number#\"],\"right\":[]},\"columnSizing\":{},\"columnVisibility\":{}},\"settings\":{\"columns\":{}},\"syncTimestamp\":1754829263533}",
       "filterBlob": null,
       "queryPlanFiltersBlob": null,
       "tableResultIndex": 0
      }
     },
     "title": "Inventory Status Count Summary"
    }
   },
   "outputs": [],
   "source": [
    "%sql\n",
    "CREATE TABLE cpg_industry.gold_supply.supply_inventory_status_summary AS\n",
    "SELECT \n",
    "    inventory_status,\n",
    "    COUNT(*) AS count\n",
    "FROM cpg_industry.silver.cpg_inventory\n",
    "GROUP BY inventory_status;"
   ]
  },
  {
   "cell_type": "code",
   "execution_count": 0,
   "metadata": {
    "application/vnd.databricks.v1+cell": {
     "cellMetadata": {
      "byteLimit": 2048000,
      "rowLimit": 10000
     },
     "inputWidgets": {},
     "nuid": "3851c0dd-9271-4119-b70b-4fa4e9adb29b",
     "showTitle": true,
     "tableResultSettingsMap": {},
     "title": "Low Stock Products Inventory List"
    }
   },
   "outputs": [],
   "source": [
    "%sql\n",
    "CREATE TABLE cpg_industry.gold_supply.supply_low_stock_products AS\n",
    "SELECT p.product_name, inv.quantity_on_hand, inv.reorder_level\n",
    "FROM cpg_industry.silver.cpg_inventory inv\n",
    "JOIN cpg_industry.silver.cpg_product p ON inv.product_id = p.product_id\n",
    "WHERE inv.quantity_on_hand <= inv.reorder_level\n",
    "ORDER BY inv.quantity_on_hand ASC;"
   ]
  },
  {
   "cell_type": "code",
   "execution_count": 0,
   "metadata": {
    "application/vnd.databricks.v1+cell": {
     "cellMetadata": {
      "byteLimit": 2048000,
      "rowLimit": 10000
     },
     "inputWidgets": {},
     "nuid": "1cc470a5-6e72-4ff5-9c81-3abbf80a06ee",
     "showTitle": true,
     "tableResultSettingsMap": {
      "0": {
       "dataGridStateBlob": "{\"version\":1,\"tableState\":{\"columnPinning\":{\"left\":[\"#row_number#\"],\"right\":[]},\"columnSizing\":{},\"columnVisibility\":{}},\"settings\":{\"columns\":{}},\"syncTimestamp\":1754829265860}",
       "filterBlob": null,
       "queryPlanFiltersBlob": null,
       "tableResultIndex": 0
      }
     },
     "title": "Order Status Distribution Summary"
    }
   },
   "outputs": [],
   "source": [
    "%sql\n",
    "CREATE TABLE cpg_industry.gold_supply.supply_b2b_order_status_summary AS\n",
    "SELECT \n",
    "    order_status,\n",
    "    COUNT(*) AS count\n",
    "FROM cpg_industry.silver.cpg_distributor_purchases\n",
    "GROUP BY order_status;"
   ]
  },
  {
   "cell_type": "code",
   "execution_count": 0,
   "metadata": {
    "application/vnd.databricks.v1+cell": {
     "cellMetadata": {
      "byteLimit": 2048000,
      "rowLimit": 10000
     },
     "inputWidgets": {},
     "nuid": "01208f0c-6bdd-4c70-8a82-d715ae34a09e",
     "showTitle": true,
     "tableResultSettingsMap": {},
     "title": "Inventory Quantity by Location Summary"
    }
   },
   "outputs": [],
   "source": [
    "%sql\n",
    "CREATE TABLE cpg_industry.gold_supply.supply_location_inventory_quantity AS\n",
    "SELECT \n",
    "    location_name,\n",
    "    state,\n",
    "    country,\n",
    "    SUM(quantity_on_hand) AS total_quantity\n",
    "FROM cpg_industry.silver.cpg_inventory\n",
    "GROUP BY country, state, location_name\n",
    "ORDER BY total_quantity DESC;"
   ]
  }
 ],
 "metadata": {
  "application/vnd.databricks.v1+notebook": {
   "computePreferences": null,
   "dashboards": [],
   "environmentMetadata": {
    "base_environment": "",
    "environment_version": "2"
   },
   "inputWidgetPreferences": null,
   "language": "python",
   "notebookMetadata": {
    "pythonIndentUnit": 4
   },
   "notebookName": "supply_b2b_kpi",
   "widgets": {}
  },
  "language_info": {
   "name": "python"
  }
 },
 "nbformat": 4,
 "nbformat_minor": 0
}
