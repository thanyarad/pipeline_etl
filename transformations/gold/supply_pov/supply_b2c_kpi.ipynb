{
 "cells": [
  {
   "cell_type": "code",
   "execution_count": 0,
   "metadata": {
    "application/vnd.databricks.v1+cell": {
     "cellMetadata": {
      "byteLimit": 2048000,
      "implicitDf": true,
      "rowLimit": 10000
     },
     "inputWidgets": {},
     "nuid": "ad4d7a83-33ef-4c35-8917-c3e4e1060e65",
     "showTitle": true,
     "tableResultSettingsMap": {},
     "title": "Removing Existing Supply B2C Tables"
    }
   },
   "outputs": [],
   "source": [
    "%sql\n",
    "DROP TABLE IF EXISTS cpg_industry.gold_supply.supply_b2c_kpi;\n",
    "DROP TABLE IF EXISTS cpg_industry.gold_supply.supply_b2c_monthly_purchase_summary;\n",
    "DROP TABLE IF EXISTS cpg_industry.gold_supply.supply_b2c_purchase_summary_by_location;\n",
    "DROP TABLE IF EXISTS cpg_industry.gold_supply.supply_b2c_category_quantity_ordered;\n",
    "DROP TABLE IF EXISTS cpg_industry.gold_supply.supply_b2c_order_status_summary;\n",
    "DROP TABLE IF EXISTS cpg_industry.gold_supply.supply_top_inventory_products;\n",
    "DROP TABLE IF EXISTS cpg_industry.gold_supply.supply_inventory_status_summary;\n",
    "DROP TABLE IF EXISTS cpg_industry.gold_supply.supply_low_stock_products;\n",
    "DROP TABLE IF EXISTS cpg_industry.gold_supply.supply_location_inventory_quantity;"
   ]
  },
  {
   "cell_type": "code",
   "execution_count": 0,
   "metadata": {
    "application/vnd.databricks.v1+cell": {
     "cellMetadata": {
      "byteLimit": 2048000,
      "implicitDf": true,
      "rowLimit": 10000
     },
     "inputWidgets": {},
     "nuid": "e3f0d27b-bada-4127-86e4-970f54ce3360",
     "showTitle": true,
     "tableResultSettingsMap": {},
     "title": "Creating Gold Schema if Not Exists"
    }
   },
   "outputs": [],
   "source": [
    "%sql\n",
    "CREATE SCHEMA IF NOT EXISTS cpg_industry.gold_supply;"
   ]
  },
  {
   "cell_type": "code",
   "execution_count": 0,
   "metadata": {
    "application/vnd.databricks.v1+cell": {
     "cellMetadata": {
      "byteLimit": 2048000,
      "implicitDf": true,
      "rowLimit": 10000
     },
     "inputWidgets": {},
     "nuid": "2f5eae8a-2860-40ab-8f70-c4ea771bcffd",
     "showTitle": true,
     "tableResultSettingsMap": {},
     "title": "Creating Supply KPI Metrics for B2C Inventory"
    }
   },
   "outputs": [],
   "source": [
    "%sql\n",
    "CREATE TABLE cpg_industry.gold_supply.supply_b2c_kpi AS\n",
    "WITH base_data AS (\n",
    "    SELECT\n",
    "        i.product_id,\n",
    "        i.quantity_on_hand,\n",
    "        p.retail_price,\n",
    "        coi.total_price,\n",
    "        coi.quantity,\n",
    "        o.order_status,\n",
    "        o.order_date,\n",
    "        co.order_id AS co_order_id\n",
    "    FROM cpg_industry.silver.cpg_inventory i\n",
    "    JOIN cpg_industry.silver.cpg_product p \n",
    "        ON i.product_id = p.product_id\n",
    "    JOIN cpg_industry.silver.cpg_consumer_order_items coi \n",
    "        ON p.product_id = coi.product_id\n",
    "    JOIN cpg_industry.silver.cpg_consumer_order o \n",
    "        ON coi.order_id = o.order_id\n",
    "    JOIN cpg_industry.silver.cpg_consumer_order co \n",
    "        ON o.order_id = co.order_id\n",
    "),\n",
    "agg_level1 AS (\n",
    "    SELECT\n",
    "        CURRENT_DATE() AS kpi_date,\n",
    "        SUM(quantity_on_hand * retail_price) AS inventory_value,\n",
    "        SUM(total_price) AS total_sales_value,\n",
    "        SUM(quantity) AS total_quantity_sold,\n",
    "        AVG(quantity_on_hand) AS avg_quantity_on_hand,\n",
    "        COUNT(DISTINCT co_order_id) AS total_orders,\n",
    "        SUM(CASE WHEN order_status = 'Returned' THEN 1 ELSE 0 END) AS backorder_count,\n",
    "        COUNT(*) AS total_order_lines,\n",
    "        AVG(DATEDIFF(CURRENT_DATE(), order_date)) AS avg_days_sales_inventory\n",
    "    FROM base_data\n",
    ")\n",
    "SELECT\n",
    "    kpi_date,\n",
    "    ROUND(inventory_value / NULLIF(total_sales_value, 0), 2) AS stock_to_sales_ratio,\n",
    "    ROUND(total_quantity_sold / NULLIF(avg_quantity_on_hand, 0), 2) AS inventory_turnover_rate,\n",
    "    ROUND(avg_quantity_on_hand / NULLIF(total_quantity_sold / NULLIF(total_orders, 0), 0), 2) AS weeks_on_hand,\n",
    "    ROUND(backorder_count * 100.0 / NULLIF(total_order_lines, 0), 2) AS backorder_rate_pct,\n",
    "    ROUND(avg_days_sales_inventory, 2) AS days_sales_in_inventory\n",
    "FROM agg_level1;"
   ]
  },
  {
   "cell_type": "code",
   "execution_count": 0,
   "metadata": {
    "application/vnd.databricks.v1+cell": {
     "cellMetadata": {
      "byteLimit": 2048000,
      "rowLimit": 10000
     },
     "inputWidgets": {},
     "nuid": "42b6c9e4-9fa1-4eed-bd52-86113345ebb4",
     "showTitle": true,
     "tableResultSettingsMap": {
      "0": {
       "dataGridStateBlob": "{\"version\":1,\"tableState\":{\"columnPinning\":{\"left\":[\"#row_number#\"],\"right\":[]},\"columnSizing\":{},\"columnVisibility\":{}},\"settings\":{\"columns\":{}},\"syncTimestamp\":1754838227687}",
       "filterBlob": null,
       "queryPlanFiltersBlob": null,
       "tableResultIndex": 0
      }
     },
     "title": "Monthly B2C Purchase Total by Order Date"
    }
   },
   "outputs": [],
   "source": [
    "%sql\n",
    "CREATE TABLE cpg_industry.gold_supply.supply_b2c_monthly_purchase_summary AS\n",
    "SELECT\n",
    "    DATE_TRUNC('month', o.order_date) AS order_month,\n",
    "    ROUND(SUM(coi.total_price),2) AS total_purchase_amount\n",
    "FROM cpg_industry.silver.cpg_consumer_order_items coi\n",
    "JOIN cpg_industry.silver.cpg_consumer_order o ON coi.order_id = o.order_id\n",
    "GROUP BY DATE_TRUNC('month', o.order_date)\n",
    "ORDER BY order_month;"
   ]
  },
  {
   "cell_type": "code",
   "execution_count": 0,
   "metadata": {
    "application/vnd.databricks.v1+cell": {
     "cellMetadata": {
      "byteLimit": 2048000,
      "rowLimit": 10000
     },
     "inputWidgets": {},
     "nuid": "7ef61884-54d7-4ac8-9802-b3a683191794",
     "showTitle": true,
     "tableResultSettingsMap": {
      "0": {
       "dataGridStateBlob": "{\"version\":1,\"tableState\":{\"columnPinning\":{\"left\":[\"#row_number#\"],\"right\":[]},\"columnSizing\":{},\"columnVisibility\":{}},\"settings\":{\"columns\":{}},\"syncTimestamp\":1754834519372}",
       "filterBlob": null,
       "queryPlanFiltersBlob": null,
       "tableResultIndex": 0
      }
     },
     "title": "Purchase Summary by State and Country"
    }
   },
   "outputs": [],
   "source": [
    "%sql\n",
    "CREATE TABLE cpg_industry.gold_supply.supply_b2c_purchase_summary_by_location AS\n",
    "SELECT \n",
    "    c.state,\n",
    "    c.country,\n",
    "    ROUND(SUM(o.total_amount), 2) AS total_purchase_value\n",
    "FROM cpg_industry.silver.cpg_consumer c\n",
    "JOIN cpg_industry.silver.cpg_consumer_order o\n",
    "    ON c.consumer_id = o.consumer_id\n",
    "GROUP BY c.state, c.country\n",
    "ORDER BY total_purchase_value DESC;"
   ]
  },
  {
   "cell_type": "code",
   "execution_count": 0,
   "metadata": {
    "application/vnd.databricks.v1+cell": {
     "cellMetadata": {
      "byteLimit": 2048000,
      "implicitDf": true,
      "rowLimit": 10000
     },
     "inputWidgets": {},
     "nuid": "08ed329e-e0dc-4f51-a881-954ade97e4d0",
     "showTitle": true,
     "tableResultSettingsMap": {
      "0": {
       "dataGridStateBlob": "{\"version\":1,\"tableState\":{\"columnPinning\":{\"left\":[\"#row_number#\"],\"right\":[]},\"columnSizing\":{},\"columnVisibility\":{}},\"settings\":{\"columns\":{}},\"syncTimestamp\":1754834802444}",
       "filterBlob": null,
       "queryPlanFiltersBlob": null,
       "tableResultIndex": 0
      }
     },
     "title": "Order Quantity by Product Category"
    }
   },
   "outputs": [],
   "source": [
    "%sql\n",
    "CREATE TABLE cpg_industry.gold_supply.supply_b2c_category_quantity_ordered AS\n",
    "SELECT \n",
    "    pr.category,\n",
    "    SUM(coi.quantity) AS total_quantity_ordered\n",
    "FROM cpg_industry.silver.cpg_consumer_order_items coi\n",
    "JOIN cpg_industry.silver.cpg_product pr\n",
    "    ON coi.product_id = pr.product_id\n",
    "GROUP BY pr.category\n",
    "ORDER BY total_quantity_ordered DESC;"
   ]
  },
  {
   "cell_type": "code",
   "execution_count": 0,
   "metadata": {
    "application/vnd.databricks.v1+cell": {
     "cellMetadata": {
      "byteLimit": 2048000,
      "rowLimit": 10000
     },
     "inputWidgets": {},
     "nuid": "64df0180-791d-4a8a-b399-8649f6a05d0a",
     "showTitle": true,
     "tableResultSettingsMap": {},
     "title": "Top Inventory Products and Quantities"
    }
   },
   "outputs": [],
   "source": [
    "%sql\n",
    "CREATE TABLE cpg_industry.gold_supply.supply_top_inventory_products AS\n",
    "SELECT \n",
    "    pr.product_name,\n",
    "    inv.quantity_on_hand\n",
    "FROM cpg_industry.silver.cpg_inventory inv\n",
    "JOIN cpg_industry.silver.cpg_product pr\n",
    "    ON inv.product_id = pr.product_id\n",
    "ORDER BY inv.quantity_on_hand DESC\n",
    "LIMIT 10;"
   ]
  },
  {
   "cell_type": "code",
   "execution_count": 0,
   "metadata": {
    "application/vnd.databricks.v1+cell": {
     "cellMetadata": {
      "byteLimit": 2048000,
      "rowLimit": 10000
     },
     "inputWidgets": {},
     "nuid": "9848c5ec-bbc5-4db0-a1f2-cbbea00d88ef",
     "showTitle": true,
     "tableResultSettingsMap": {
      "0": {
       "dataGridStateBlob": "{\"version\":1,\"tableState\":{\"columnPinning\":{\"left\":[\"#row_number#\"],\"right\":[]},\"columnSizing\":{},\"columnVisibility\":{}},\"settings\":{\"columns\":{}},\"syncTimestamp\":1754838238228}",
       "filterBlob": null,
       "queryPlanFiltersBlob": null,
       "tableResultIndex": 0
      }
     },
     "title": "Products Below Reorder Level"
    }
   },
   "outputs": [],
   "source": [
    "%sql\n",
    "CREATE TABLE cpg_industry.gold_supply.supply_low_stock_products AS\n",
    "SELECT p.product_name, inv.quantity_on_hand, inv.reorder_level\n",
    "FROM cpg_industry.silver.cpg_inventory inv\n",
    "JOIN cpg_industry.silver.cpg_product p ON inv.product_id = p.product_id\n",
    "WHERE inv.quantity_on_hand <= inv.reorder_level\n",
    "ORDER BY inv.quantity_on_hand ASC;"
   ]
  },
  {
   "cell_type": "code",
   "execution_count": 0,
   "metadata": {
    "application/vnd.databricks.v1+cell": {
     "cellMetadata": {
      "byteLimit": 2048000,
      "rowLimit": 10000
     },
     "inputWidgets": {},
     "nuid": "2b20d6ce-25c5-45da-ac3e-fabde4f2c74b",
     "showTitle": true,
     "tableResultSettingsMap": {},
     "title": "Inventory Status Summary and Count"
    }
   },
   "outputs": [],
   "source": [
    "%sql\n",
    "CREATE TABLE cpg_industry.gold_supply.supply_inventory_status_summary AS\n",
    "SELECT \n",
    "    inventory_status,\n",
    "    COUNT(*) AS count\n",
    "FROM cpg_industry.silver.cpg_inventory\n",
    "GROUP BY inventory_status;"
   ]
  },
  {
   "cell_type": "code",
   "execution_count": 0,
   "metadata": {
    "application/vnd.databricks.v1+cell": {
     "cellMetadata": {
      "byteLimit": 2048000,
      "rowLimit": 10000
     },
     "inputWidgets": {},
     "nuid": "60caf765-d198-4ba6-a75b-0c90a81637a3",
     "showTitle": true,
     "tableResultSettingsMap": {
      "0": {
       "dataGridStateBlob": "{\"version\":1,\"tableState\":{\"columnPinning\":{\"left\":[\"#row_number#\"],\"right\":[]},\"columnSizing\":{},\"columnVisibility\":{}},\"settings\":{\"columns\":{}},\"syncTimestamp\":1754838241883}",
       "filterBlob": null,
       "queryPlanFiltersBlob": null,
       "tableResultIndex": 0
      }
     },
     "title": "Order Status Summary and Count"
    }
   },
   "outputs": [],
   "source": [
    "%sql\n",
    "CREATE TABLE cpg_industry.gold_supply.supply_b2c_order_status_summary AS\n",
    "SELECT \n",
    "    order_status,\n",
    "    COUNT(*) AS count\n",
    "FROM cpg_industry.silver.cpg_consumer_order\n",
    "GROUP BY order_status;"
   ]
  },
  {
   "cell_type": "code",
   "execution_count": 0,
   "metadata": {
    "application/vnd.databricks.v1+cell": {
     "cellMetadata": {
      "byteLimit": 2048000,
      "rowLimit": 10000
     },
     "inputWidgets": {},
     "nuid": "59594388-2467-4ec4-830f-e5dbad5a12ae",
     "showTitle": true,
     "tableResultSettingsMap": {
      "0": {
       "dataGridStateBlob": "{\"version\":1,\"tableState\":{\"columnPinning\":{\"left\":[\"#row_number#\"],\"right\":[]},\"columnSizing\":{},\"columnVisibility\":{}},\"settings\":{\"columns\":{}},\"syncTimestamp\":1754838244875}",
       "filterBlob": null,
       "queryPlanFiltersBlob": null,
       "tableResultIndex": 0
      }
     },
     "title": "Total Stock by Location and City"
    }
   },
   "outputs": [],
   "source": [
    "%sql\n",
    "CREATE TABLE cpg_industry.gold_supply.supply_location_inventory_quantity AS\n",
    "SELECT \n",
    "    location_name,\n",
    "    state,\n",
    "    country,\n",
    "    SUM(quantity_on_hand) AS total_quantity\n",
    "FROM cpg_industry.silver.cpg_inventory\n",
    "GROUP BY country, state, location_name\n",
    "ORDER BY total_quantity DESC;"
   ]
  }
 ],
 "metadata": {
  "application/vnd.databricks.v1+notebook": {
   "computePreferences": null,
   "dashboards": [],
   "environmentMetadata": {
    "base_environment": "",
    "environment_version": "2"
   },
   "inputWidgetPreferences": null,
   "language": "python",
   "notebookMetadata": {
    "mostRecentlyExecutedCommandWithImplicitDF": {
     "commandId": -1,
     "dataframes": [
      "_sqldf"
     ]
    },
    "pythonIndentUnit": 4
   },
   "notebookName": "supply_b2c_kpi",
   "widgets": {}
  },
  "language_info": {
   "name": "python"
  }
 },
 "nbformat": 4,
 "nbformat_minor": 0
}
