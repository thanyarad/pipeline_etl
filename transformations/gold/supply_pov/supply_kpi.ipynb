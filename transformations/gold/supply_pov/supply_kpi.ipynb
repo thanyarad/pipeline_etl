{
 "cells": [
  {
   "cell_type": "markdown",
   "metadata": {
    "application/vnd.databricks.v1+cell": {
     "cellMetadata": {},
     "inputWidgets": {},
     "nuid": "1559a8ed-286d-4a04-8976-d2be06da118a",
     "showTitle": false,
     "tableResultSettingsMap": {},
     "title": ""
    }
   },
   "source": [
    "### Stock to Sales Ratio"
   ]
  },
  {
   "cell_type": "code",
   "execution_count": 0,
   "metadata": {
    "application/vnd.databricks.v1+cell": {
     "cellMetadata": {
      "byteLimit": 2048000,
      "implicitDf": true,
      "rowLimit": 10000
     },
     "inputWidgets": {},
     "nuid": "fe4c9f3d-862c-4821-84e7-aa9bcf22ba7f",
     "showTitle": false,
     "tableResultSettingsMap": {},
     "title": ""
    }
   },
   "outputs": [],
   "source": [
    "%sql\n",
    "SELECT \n",
    "    SUM(oi.total_price) AS stock_to_sales_ratio\n",
    "FROM cpg_industry.silver.cpg_inventory inv\n",
    "JOIN cpg_industry.silver.cpg_product p ON inv.product_id = p.product_id\n",
    "JOIN cpg_industry.silver.cpg_order_items oi ON p.product_id = oi.product_id;\n"
   ]
  },
  {
   "cell_type": "code",
   "execution_count": 0,
   "metadata": {
    "application/vnd.databricks.v1+cell": {
     "cellMetadata": {
      "byteLimit": 2048000,
      "implicitDf": true,
      "rowLimit": 10000
     },
     "inputWidgets": {},
     "nuid": "9310d3af-6b85-4222-80c4-cd8a7b24bee6",
     "showTitle": false,
     "tableResultSettingsMap": {},
     "title": ""
    }
   },
   "outputs": [],
   "source": [
    "%sql\n",
    "WITH avg_inventory AS (\n",
    "    SELECT AVG(quantity_on_hand * p.unit_price) AS avg_inventory_value\n",
    "    FROM cpg_industry.silver.cpg_inventory inv\n",
    "    JOIN cpg_industry.silver.cpg_product p ON inv.product_id = p.product_id\n",
    ")\n",
    "SELECT \n",
    "    SUM(oi.quantity * p.unit_price) / NULLIF(avg_inventory_value, 0) AS inventory_turnover_rate\n",
    "FROM cpg_industry.silver.cpg_order_items oi\n",
    "JOIN cpg_industry.silver.cpg_product p ON oi.product_id = p.product_id\n",
    "CROSS JOIN avg_inventory;\n"
   ]
  },
  {
   "cell_type": "markdown",
   "metadata": {
    "application/vnd.databricks.v1+cell": {
     "cellMetadata": {},
     "inputWidgets": {},
     "nuid": "3b5f606d-1f43-4ae5-9641-06c40b304010",
     "showTitle": false,
     "tableResultSettingsMap": {},
     "title": ""
    }
   },
   "source": []
  },
  {
   "cell_type": "markdown",
   "metadata": {
    "application/vnd.databricks.v1+cell": {
     "cellMetadata": {},
     "inputWidgets": {},
     "nuid": "98915f0f-ca10-41e4-ad5b-7bb319e5c5fa",
     "showTitle": false,
     "tableResultSettingsMap": {},
     "title": ""
    }
   },
   "source": [
    "### Backorder Rate (%)"
   ]
  },
  {
   "cell_type": "code",
   "execution_count": 0,
   "metadata": {
    "application/vnd.databricks.v1+cell": {
     "cellMetadata": {
      "byteLimit": 2048000,
      "implicitDf": true,
      "rowLimit": 10000
     },
     "inputWidgets": {},
     "nuid": "0892df6f-c7ee-4de7-b38e-7d610eb156bd",
     "showTitle": false,
     "tableResultSettingsMap": {},
     "title": ""
    }
   },
   "outputs": [],
   "source": [
    "%sql\n",
    "SELECT \n",
    "    ROUND(\n",
    "        (SUM(CASE WHEN co.order_status = 'Returned' THEN coi.quantity ELSE 0 END) \n",
    "        / NULLIF(SUM(coi.quantity), 0)) * 100, 2\n",
    "    ) AS backorder_rate_pct\n",
    "FROM cpg_industry.silver.cpg_order_items coi\n",
    "JOIN cpg_industry.silver.cpg_consumer_order co ON coi.order_id = co.order_id\n",
    "WHERE co.order_date BETWEEN '2024-10-01' AND '2024-12-30';"
   ]
  },
  {
   "cell_type": "markdown",
   "metadata": {
    "application/vnd.databricks.v1+cell": {
     "cellMetadata": {},
     "inputWidgets": {},
     "nuid": "67037b68-9a1f-4848-a2b3-35f5774f4b5a",
     "showTitle": false,
     "tableResultSettingsMap": {},
     "title": ""
    }
   },
   "source": [
    "### Days Sales in Inventory (DSI)\n"
   ]
  },
  {
   "cell_type": "code",
   "execution_count": 0,
   "metadata": {
    "application/vnd.databricks.v1+cell": {
     "cellMetadata": {
      "byteLimit": 2048000,
      "implicitDf": true,
      "rowLimit": 10000
     },
     "inputWidgets": {},
     "nuid": "1de06b16-bc71-4b99-9e26-0e5580224fc8",
     "showTitle": false,
     "tableResultSettingsMap": {},
     "title": ""
    }
   },
   "outputs": [],
   "source": [
    "%sql\n",
    "WITH avg_inventory AS (\n",
    "    SELECT AVG(inv.quantity_on_hand * p.unit_price) AS avg_inventory_value\n",
    "    FROM  cpg_industry.silver.cpg_inventory inv\n",
    "    JOIN cpg_industry.silver.cpg_product p ON inv.product_id = p.product_id\n",
    "),\n",
    "cogs AS (\n",
    "    SELECT SUM(cpi.total_price) AS total_cogs\n",
    "    FROM cpg_industry.silver.cpg_order_items cpi\n",
    ")\n",
    "SELECT \n",
    "    ROUND(\n",
    "        (avg_inventory.avg_inventory_value / NULLIF(cogs.total_cogs, 0)) * 365, \n",
    "        2\n",
    "    ) AS days_sales_in_inventory\n",
    "FROM avg_inventory, cogs;\n",
    " "
   ]
  },
  {
   "cell_type": "markdown",
   "metadata": {
    "application/vnd.databricks.v1+cell": {
     "cellMetadata": {},
     "inputWidgets": {},
     "nuid": "dd80b66c-d41d-4de0-91b3-72c5373c4788",
     "showTitle": false,
     "tableResultSettingsMap": {},
     "title": ""
    }
   },
   "source": [
    "### Perfect Order Rate (%)\n"
   ]
  },
  {
   "cell_type": "code",
   "execution_count": 0,
   "metadata": {
    "application/vnd.databricks.v1+cell": {
     "cellMetadata": {
      "byteLimit": 2048000,
      "implicitDf": true,
      "rowLimit": 10000
     },
     "inputWidgets": {},
     "nuid": "d636f54e-6c86-4fd4-be35-b7e6307d34e6",
     "showTitle": false,
     "tableResultSettingsMap": {},
     "title": ""
    }
   },
   "outputs": [],
   "source": [
    "%sql\n",
    "SELECT \n",
    "    ROUND(\n",
    "        (SUM(CASE WHEN order_status = 'Delivered' THEN 1 ELSE 0 END) \n",
    "        / NULLIF(COUNT(*), 0)) * 100, \n",
    "        2\n",
    "    ) AS perfect_order_rate_pct\n",
    "FROM cpg_industry.silver.cpg_consumer_order\n",
    "WHERE order_date BETWEEN '2024-11-01' AND '2024-11-30';"
   ]
  },
  {
   "cell_type": "code",
   "execution_count": 0,
   "metadata": {
    "application/vnd.databricks.v1+cell": {
     "cellMetadata": {
      "byteLimit": 2048000,
      "implicitDf": true,
      "rowLimit": 10000
     },
     "inputWidgets": {},
     "nuid": "fe27a3fe-7c6c-4ac7-a725-a855fbb0c554",
     "showTitle": false,
     "tableResultSettingsMap": {},
     "title": ""
    }
   },
   "outputs": [],
   "source": [
    "%sql\n",
    "show tables in cpg_industry.silver;"
   ]
  },
  {
   "cell_type": "markdown",
   "metadata": {
    "application/vnd.databricks.v1+cell": {
     "cellMetadata": {},
     "inputWidgets": {},
     "nuid": "74238d22-34e2-4964-90e4-56db5e02b0f8",
     "showTitle": false,
     "tableResultSettingsMap": {},
     "title": ""
    }
   },
   "source": [
    "## Sales trend"
   ]
  },
  {
   "cell_type": "code",
   "execution_count": 0,
   "metadata": {
    "application/vnd.databricks.v1+cell": {
     "cellMetadata": {
      "byteLimit": 2048000,
      "implicitDf": true,
      "rowLimit": 10000
     },
     "inputWidgets": {},
     "nuid": "2d185d59-45ed-47ca-b43b-4e4bda574989",
     "showTitle": false,
     "tableResultSettingsMap": {},
     "title": ""
    }
   },
   "outputs": [],
   "source": [
    "%sql\n",
    "SELECT \n",
    "    co.order_date,\n",
    "    round(SUM(oi.total_price), 2) AS daily_sales_value\n",
    "FROM cpg_industry.silver.cpg_order_items oi\n",
    "JOIN cpg_industry.silver.cpg_consumer_order co \n",
    "    ON oi.order_id = co.order_id\n",
    "WHERE co.order_status = 'Delivered'\n",
    "GROUP BY co.order_date\n",
    "ORDER BY co.order_date;\n"
   ]
  }
 ],
 "metadata": {
  "application/vnd.databricks.v1+notebook": {
   "computePreferences": null,
   "dashboards": [],
   "environmentMetadata": {
    "base_environment": "",
    "environment_version": "2"
   },
   "inputWidgetPreferences": null,
   "language": "python",
   "notebookMetadata": {
    "mostRecentlyExecutedCommandWithImplicitDF": {
     "commandId": 5477058307699198,
     "dataframes": [
      "_sqldf"
     ]
    },
    "pythonIndentUnit": 4
   },
   "notebookName": "supply_kpi",
   "widgets": {}
  },
  "language_info": {
   "name": "python"
  }
 },
 "nbformat": 4,
 "nbformat_minor": 0
}
