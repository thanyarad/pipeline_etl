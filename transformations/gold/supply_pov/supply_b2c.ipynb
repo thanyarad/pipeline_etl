{
 "cells": [
  {
   "cell_type": "code",
   "execution_count": 0,
   "metadata": {
    "application/vnd.databricks.v1+cell": {
     "cellMetadata": {},
     "inputWidgets": {},
     "nuid": "95caa9f2-6532-42cd-a63b-12bd18ff684a",
     "showTitle": true,
     "tableResultSettingsMap": {},
     "title": "Setting Up Bronze and Silver Schema Configurations"
    }
   },
   "outputs": [],
   "source": [
    "# Configuration\n",
    "catalog = \"cpg_industry\"\n",
    "gold_supply = \"gold_supply\"\n",
    "silver_schema = \"silver\""
   ]
  },
  {
   "cell_type": "code",
   "execution_count": 0,
   "metadata": {
    "application/vnd.databricks.v1+cell": {
     "cellMetadata": {},
     "inputWidgets": {},
     "nuid": "90464b00-5203-44c9-9619-57dd1e9157c3",
     "showTitle": false,
     "tableResultSettingsMap": {},
     "title": ""
    }
   },
   "outputs": [],
   "source": [
    "# Drop schema\n",
    "# spark.sql(f\"DROP SCHEMA IF EXISTS {catalog}.{gold_supply} CASCADE\")"
   ]
  },
  {
   "cell_type": "code",
   "execution_count": 0,
   "metadata": {
    "application/vnd.databricks.v1+cell": {
     "cellMetadata": {},
     "inputWidgets": {},
     "nuid": "4398506a-471b-46e2-b1c7-795258bcf9d0",
     "showTitle": false,
     "tableResultSettingsMap": {},
     "title": ""
    }
   },
   "outputs": [],
   "source": [
    "# Create schema\n",
    "spark.sql(f\"CREATE SCHEMA IF NOT EXISTS {catalog}.{gold_supply}\")"
   ]
  },
  {
   "cell_type": "code",
   "execution_count": 0,
   "metadata": {
    "application/vnd.databricks.v1+cell": {
     "cellMetadata": {
      "byteLimit": 2048000,
      "rowLimit": 10000
     },
     "inputWidgets": {},
     "nuid": "42b6c9e4-9fa1-4eed-bd52-86113345ebb4",
     "showTitle": true,
     "tableResultSettingsMap": {
      "0": {
       "dataGridStateBlob": "{\"version\":1,\"tableState\":{\"columnPinning\":{\"left\":[\"#row_number#\"],\"right\":[]},\"columnSizing\":{},\"columnVisibility\":{}},\"settings\":{\"columns\":{}},\"syncTimestamp\":1754838227687}",
       "filterBlob": null,
       "queryPlanFiltersBlob": null,
       "tableResultIndex": 0
      }
     },
     "title": "Monthly B2C Purchase Total by Order Date"
    }
   },
   "outputs": [],
   "source": [
    "# Monthly B2C Purchase Total by Order Date\n",
    "spark.sql(f\"\"\"\n",
    "CREATE TABLE {catalog}.{gold_supply}.supply_b2c_monthly_purchase_summary AS\n",
    "SELECT\n",
    "    DATE_TRUNC('month', o.order_date) AS order_month,\n",
    "    ROUND(SUM(coi.total_price),2) AS total_purchase_amount\n",
    "FROM {catalog}.{silver_schema}.cpg_consumer_order_items coi\n",
    "JOIN {catalog}.{silver_schema}.cpg_consumer_order o ON coi.order_id = o.order_id\n",
    "GROUP BY DATE_TRUNC('month', o.order_date)\n",
    "ORDER BY order_month;\n",
    "\"\"\")"
   ]
  },
  {
   "cell_type": "code",
   "execution_count": 0,
   "metadata": {
    "application/vnd.databricks.v1+cell": {
     "cellMetadata": {
      "byteLimit": 2048000,
      "rowLimit": 10000
     },
     "inputWidgets": {},
     "nuid": "7ef61884-54d7-4ac8-9802-b3a683191794",
     "showTitle": true,
     "tableResultSettingsMap": {
      "0": {
       "dataGridStateBlob": "{\"version\":1,\"tableState\":{\"columnPinning\":{\"left\":[\"#row_number#\"],\"right\":[]},\"columnSizing\":{},\"columnVisibility\":{}},\"settings\":{\"columns\":{}},\"syncTimestamp\":1754834519372}",
       "filterBlob": null,
       "queryPlanFiltersBlob": null,
       "tableResultIndex": 0
      }
     },
     "title": "Purchase Summary by State and Country"
    }
   },
   "outputs": [],
   "source": [
    "# Purchase Summary by State and Country\n",
    "spark.sql(f\"\"\"\n",
    "CREATE TABLE {catalog}.{gold_supply}.supply_b2c_purchase_summary_by_location AS\n",
    "SELECT \n",
    "    c.state,\n",
    "    c.country,\n",
    "    ROUND(SUM(o.total_amount), 2) AS total_purchase_value\n",
    "FROM {catalog}.{silver_schema}.cpg_consumer c\n",
    "JOIN {catalog}.{silver_schema}.cpg_consumer_order o\n",
    "    ON c.consumer_id = o.consumer_id\n",
    "GROUP BY c.state, c.country\n",
    "ORDER BY total_purchase_value DESC;\n",
    "\"\"\")"
   ]
  },
  {
   "cell_type": "code",
   "execution_count": 0,
   "metadata": {
    "application/vnd.databricks.v1+cell": {
     "cellMetadata": {
      "byteLimit": 2048000,
      "implicitDf": true,
      "rowLimit": 10000
     },
     "inputWidgets": {},
     "nuid": "08ed329e-e0dc-4f51-a881-954ade97e4d0",
     "showTitle": true,
     "tableResultSettingsMap": {
      "0": {
       "dataGridStateBlob": "{\"version\":1,\"tableState\":{\"columnPinning\":{\"left\":[\"#row_number#\"],\"right\":[]},\"columnSizing\":{},\"columnVisibility\":{}},\"settings\":{\"columns\":{}},\"syncTimestamp\":1754834802444}",
       "filterBlob": null,
       "queryPlanFiltersBlob": null,
       "tableResultIndex": 0
      }
     },
     "title": "Order Quantity by Product Category"
    }
   },
   "outputs": [],
   "source": [
    "# Order Quantity by Product Category\n",
    "spark.sql(f\"\"\"\n",
    "CREATE TABLE {catalog}.{gold_supply}.supply_b2c_category_quantity_ordered AS\n",
    "SELECT \n",
    "    pr.category,\n",
    "    SUM(coi.quantity) AS total_quantity_ordered\n",
    "FROM {catalog}.{silver_schema}.cpg_consumer_order_items coi\n",
    "JOIN {catalog}.{silver_schema}.cpg_product pr\n",
    "    ON coi.product_id = pr.product_id\n",
    "GROUP BY pr.category\n",
    "ORDER BY total_quantity_ordered DESC;\n",
    "\"\"\")"
   ]
  },
  {
   "cell_type": "code",
   "execution_count": 0,
   "metadata": {
    "application/vnd.databricks.v1+cell": {
     "cellMetadata": {
      "byteLimit": 2048000,
      "rowLimit": 10000
     },
     "inputWidgets": {},
     "nuid": "60caf765-d198-4ba6-a75b-0c90a81637a3",
     "showTitle": true,
     "tableResultSettingsMap": {
      "0": {
       "dataGridStateBlob": "{\"version\":1,\"tableState\":{\"columnPinning\":{\"left\":[\"#row_number#\"],\"right\":[]},\"columnSizing\":{},\"columnVisibility\":{}},\"settings\":{\"columns\":{}},\"syncTimestamp\":1754838241883}",
       "filterBlob": null,
       "queryPlanFiltersBlob": null,
       "tableResultIndex": 0
      }
     },
     "title": "Order Status Summary and Count"
    }
   },
   "outputs": [],
   "source": [
    "# Order Status Summary and Count\n",
    "spark.sql(f\"\"\"\n",
    "CREATE TABLE {catalog}.{gold_supply}.supply_b2c_order_status_summary AS\n",
    "SELECT \n",
    "    order_status,\n",
    "    COUNT(*) AS count\n",
    "FROM {catalog}.{silver_schema}.cpg_consumer_order\n",
    "GROUP BY order_status;\n",
    "\"\"\")"
   ]
  }
 ],
 "metadata": {
  "application/vnd.databricks.v1+notebook": {
   "computePreferences": null,
   "dashboards": [],
   "environmentMetadata": {
    "base_environment": "",
    "environment_version": "2"
   },
   "inputWidgetPreferences": null,
   "language": "python",
   "notebookMetadata": {
    "mostRecentlyExecutedCommandWithImplicitDF": {
     "commandId": -1,
     "dataframes": [
      "_sqldf"
     ]
    },
    "pythonIndentUnit": 4
   },
   "notebookName": "supply_b2c",
   "widgets": {}
  },
  "language_info": {
   "name": "python"
  }
 },
 "nbformat": 4,
 "nbformat_minor": 0
}
