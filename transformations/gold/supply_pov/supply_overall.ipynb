{
 "cells": [
  {
   "cell_type": "code",
   "execution_count": null,
   "metadata": {},
   "outputs": [],
   "source": [
    "import json\n",
    "with open(\"../../config/metadata.json\", \"r\") as f:\n",
    "    config = json.load(f)"
   ]
  },
  {
   "cell_type": "code",
   "execution_count": null,
   "metadata": {},
   "outputs": [],
   "source": [
    "# Configuration\n",
    "catalog = config[\"catalog\"]\n",
    "gold_supply = config[\"gold_supply\"]\n",
    "silver_schema = config[\"silver_schema\"]"
   ]
  },
  {
   "cell_type": "code",
   "execution_count": 0,
   "metadata": {
    "application/vnd.databricks.v1+cell": {
     "cellMetadata": {},
     "inputWidgets": {},
     "nuid": "95d168fe-fcb0-42b8-8a7e-c00664fea222",
     "showTitle": false,
     "tableResultSettingsMap": {},
     "title": ""
    }
   },
   "outputs": [],
   "source": [
    "# Drop schema\n",
    "# spark.sql(f\"DROP SCHEMA IF EXISTS {catalog}.{gold_supply} CASCADE\")\n",
    "\n",
    "# Drop tables\n",
    "# spark.sql(f\"DROP TABLE IF EXISTS {catalog}.{gold_supply}.supply_overall_kpi\")\n",
    "# spark.sql(f\"DROP TABLE IF EXISTS {catalog}.{gold_supply}.supply_overall_monthly_purchase_summary\")\n",
    "# spark.sql(f\"DROP TABLE IF EXISTS {catalog}.{gold_supply}.supply_overall_category_quantity_ordered\")\n",
    "# spark.sql(f\"DROP TABLE IF EXISTS {catalog}.{gold_supply}.supply_overall_order_status_summary\")"
   ]
  },
  {
   "cell_type": "code",
   "execution_count": 0,
   "metadata": {
    "application/vnd.databricks.v1+cell": {
     "cellMetadata": {},
     "inputWidgets": {},
     "nuid": "f27816fe-e0b0-4359-b238-65804b1ac182",
     "showTitle": false,
     "tableResultSettingsMap": {},
     "title": ""
    }
   },
   "outputs": [],
   "source": [
    "# Create schema\n",
    "spark.sql(f\"CREATE SCHEMA IF NOT EXISTS {catalog}.{gold_supply}\")"
   ]
  },
  {
   "cell_type": "code",
   "execution_count": 0,
   "metadata": {
    "application/vnd.databricks.v1+cell": {
     "cellMetadata": {
      "byteLimit": 2048000,
      "rowLimit": 10000
     },
     "inputWidgets": {},
     "nuid": "e6d5d3f6-418b-41e3-8c10-dbfed8be8457",
     "showTitle": true,
     "tableResultSettingsMap": {},
     "title": "Combined Supply Chain Inventory and Sales KPI Metrics"
    }
   },
   "outputs": [],
   "source": [
    "# Creating Combined B2B and B2C Supply Chain KPI Metrics\n",
    "spark.sql(f\"\"\"\n",
    "CREATE TABLE {catalog}.{gold_supply}.supply_overall_kpi AS\n",
    "WITH b2c_base AS (\n",
    "    SELECT\n",
    "        i.product_id,\n",
    "        i.quantity_on_hand,\n",
    "        p.retail_price,\n",
    "        coi.total_price,\n",
    "        coi.quantity AS quantity,\n",
    "        o.order_status,\n",
    "        o.order_date,\n",
    "        o.order_id AS co_order_id\n",
    "    FROM {catalog}.{silver_schema}.cpg_inventory i\n",
    "    JOIN {catalog}.{silver_schema}.cpg_product p \n",
    "        ON i.product_id = p.product_id\n",
    "    JOIN {catalog}.{silver_schema}.cpg_consumer_order_items coi \n",
    "        ON p.product_id = coi.product_id\n",
    "    JOIN {catalog}.{silver_schema}.cpg_consumer_order o \n",
    "        ON coi.order_id = o.order_id\n",
    "),\n",
    "b2b_base AS (\n",
    "    SELECT\n",
    "        i.product_id,\n",
    "        i.quantity_on_hand,\n",
    "        p.retail_price,\n",
    "        pi.total_price,\n",
    "        pi.quantity_ordered AS quantity,\n",
    "        dp.order_status,\n",
    "        dp.order_date,\n",
    "        dp.purchase_id AS co_order_id\n",
    "    FROM {catalog}.{silver_schema}.cpg_inventory i\n",
    "    JOIN {catalog}.{silver_schema}.cpg_product p \n",
    "        ON i.product_id = p.product_id\n",
    "    JOIN {catalog}.{silver_schema}.cpg_distributor_purchase_items pi \n",
    "        ON p.product_id = pi.product_id\n",
    "    JOIN {catalog}.{silver_schema}.cpg_distributor_purchases dp \n",
    "        ON pi.purchase_id = dp.purchase_id\n",
    "),\n",
    "combined_base AS (\n",
    "    SELECT * FROM b2c_base\n",
    "    UNION ALL\n",
    "    SELECT * FROM b2b_base\n",
    "),\n",
    "agg_level1 AS (\n",
    "    SELECT\n",
    "        CURRENT_DATE() AS kpi_date,\n",
    "        SUM(quantity_on_hand * retail_price) AS inventory_value,\n",
    "        SUM(total_price) AS total_sales_value,\n",
    "        SUM(quantity) AS total_quantity_sold,\n",
    "        AVG(quantity_on_hand) AS avg_quantity_on_hand,\n",
    "        COUNT(DISTINCT co_order_id) AS total_orders,\n",
    "        SUM(CASE WHEN order_status IN ('Returned', 'Cancelled') THEN 1 ELSE 0 END) AS backorder_count,\n",
    "        COUNT(*) AS total_order_lines,\n",
    "        AVG(DATEDIFF(CURRENT_DATE(), order_date)) AS avg_days_sales_inventory,\n",
    "        DATEDIFF(MAX(order_date), MIN(order_date)) / 7.0 AS total_weeks_in_period\n",
    "    FROM combined_base\n",
    ")\n",
    "SELECT\n",
    "    kpi_date,\n",
    "    ROUND(inventory_value / NULLIF(total_sales_value, 0), 2) AS stock_to_sales_ratio,\n",
    "    ROUND(total_quantity_sold / NULLIF(avg_quantity_on_hand, 0), 2) AS inventory_turnover_rate,\n",
    "    ROUND(avg_quantity_on_hand / NULLIF(total_quantity_sold / NULLIF(total_weeks_in_period, 0), 0), 2) AS weeks_on_hand,\n",
    "    ROUND(backorder_count * 100.0 / NULLIF(total_order_lines, 0), 2) AS backorder_rate_pct,\n",
    "    ROUND(avg_days_sales_inventory, 2) AS days_sales_in_inventory\n",
    "FROM agg_level1;\n",
    "\"\"\")"
   ]
  },
  {
   "cell_type": "code",
   "execution_count": 0,
   "metadata": {
    "application/vnd.databricks.v1+cell": {
     "cellMetadata": {
      "byteLimit": 2048000,
      "rowLimit": 10000
     },
     "inputWidgets": {},
     "nuid": "abea74e7-9e8f-40b0-a64d-09cd0851ce5f",
     "showTitle": true,
     "tableResultSettingsMap": {},
     "title": "Monthly Combined B2C and B2B Purchase Amount Summary"
    }
   },
   "outputs": [],
   "source": [
    "spark.sql(f\"\"\"\n",
    "CREATE TABLE {catalog}.{gold_supply}.supply_overall_monthly_purchase_summary AS\n",
    "SELECT \n",
    "    order_month,\n",
    "    ROUND(SUM(total_purchase_amount), 2) AS total_purchase_amount\n",
    "FROM (\n",
    "    SELECT order_month, total_purchase_amount\n",
    "    FROM {catalog}.{gold_supply}.supply_b2c_monthly_purchase_summary\n",
    "    UNION ALL\n",
    "    SELECT order_month, total_purchase_amount\n",
    "    FROM {catalog}.{gold_supply}.supply_b2b_monthly_purchase_summary\n",
    ") AS combined\n",
    "GROUP BY order_month\n",
    "ORDER BY order_month;\n",
    "\"\"\")"
   ]
  },
  {
   "cell_type": "code",
   "execution_count": 0,
   "metadata": {
    "application/vnd.databricks.v1+cell": {
     "cellMetadata": {
      "byteLimit": 2048000,
      "rowLimit": 10000
     },
     "inputWidgets": {},
     "nuid": "09e9562f-78e1-4489-b443-b8bebda482de",
     "showTitle": true,
     "tableResultSettingsMap": {},
     "title": "Aggregated Category Quantity Ordered from B2C and B2B"
    }
   },
   "outputs": [],
   "source": [
    "spark.sql(f\"\"\"\n",
    "CREATE TABLE {catalog}.{gold_supply}.supply_overall_category_quantity_ordered AS\n",
    "SELECT \n",
    "    category,\n",
    "    SUM(total_quantity_ordered) AS total_quantity_ordered\n",
    "FROM (\n",
    "    SELECT category, total_quantity_ordered\n",
    "    FROM {catalog}.{gold_supply}.supply_b2c_category_quantity_ordered\n",
    "    UNION ALL\n",
    "    SELECT category, total_quantity_ordered\n",
    "    FROM {catalog}.{gold_supply}.supply_b2b_category_quantity_ordered\n",
    ") AS combined\n",
    "GROUP BY category\n",
    "ORDER BY total_quantity_ordered DESC;\n",
    "\"\"\")"
   ]
  },
  {
   "cell_type": "code",
   "execution_count": 0,
   "metadata": {
    "application/vnd.databricks.v1+cell": {
     "cellMetadata": {
      "byteLimit": 2048000,
      "rowLimit": 10000
     },
     "inputWidgets": {},
     "nuid": "10c4f06a-a79f-41e6-aef8-7f75b808a080",
     "showTitle": true,
     "tableResultSettingsMap": {},
     "title": "Combined Order Status Count from B2C and B2B Sources"
    }
   },
   "outputs": [],
   "source": [
    "spark.sql(f\"\"\"\n",
    "CREATE TABLE {catalog}.{gold_supply}.supply_overall_order_status_summary AS\n",
    "SELECT \n",
    "    order_status,\n",
    "    SUM(count) AS count\n",
    "FROM (\n",
    "    SELECT order_status, count\n",
    "    FROM {catalog}.{gold_supply}.supply_b2c_order_status_summary\n",
    "    UNION ALL\n",
    "    SELECT order_status, count\n",
    "    FROM {catalog}.{gold_supply}.supply_b2b_order_status_summary\n",
    ") AS combined\n",
    "GROUP BY order_status;\n",
    "\"\"\")"
   ]
  }
 ],
 "metadata": {
  "application/vnd.databricks.v1+notebook": {
   "computePreferences": null,
   "dashboards": [],
   "environmentMetadata": {
    "base_environment": "",
    "environment_version": "2"
   },
   "inputWidgetPreferences": null,
   "language": "python",
   "notebookMetadata": {
    "pythonIndentUnit": 4
   },
   "notebookName": "supply_overall",
   "widgets": {}
  },
  "language_info": {
   "name": "python"
  }
 },
 "nbformat": 4,
 "nbformat_minor": 0
}
