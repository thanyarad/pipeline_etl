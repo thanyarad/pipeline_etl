{
 "cells": [
  {
   "cell_type": "code",
   "execution_count": 0,
   "metadata": {
    "application/vnd.databricks.v1+cell": {
     "cellMetadata": {
      "byteLimit": 2048000,
      "rowLimit": 10000
     },
     "inputWidgets": {},
     "nuid": "17e92a34-2974-43ff-824f-64b793f30f61",
     "showTitle": true,
     "tableResultSettingsMap": {},
     "title": "Setting Up Bronze and Silver Schema Configurations"
    }
   },
   "outputs": [],
   "source": [
    "# Configuration\n",
    "catalog = \"cpg_industry\"\n",
    "gold_supply = \"gold_supply\"\n",
    "silver_schema = \"silver\""
   ]
  },
  {
   "cell_type": "code",
   "execution_count": 0,
   "metadata": {
    "application/vnd.databricks.v1+cell": {
     "cellMetadata": {
      "byteLimit": 2048000,
      "rowLimit": 10000
     },
     "inputWidgets": {},
     "nuid": "84086149-db32-4f70-8318-57da76a6d542",
     "showTitle": false,
     "tableResultSettingsMap": {},
     "title": ""
    }
   },
   "outputs": [],
   "source": [
    "# Drop schema\n",
    "# spark.sql(f\"DROP SCHEMA IF EXISTS {catalog}.{gold_supply} CASCADE\")\n",
    "\n",
    "# Drop tables\n",
    "# spark.sql(f\"DROP TABLE IF EXISTS {catalog}.{gold_supply}.supply_b2c_kpi\")\n",
    "# spark.sql(f\"DROP TABLE IF EXISTS {catalog}.{gold_supply}.supply_b2b_kpi\")\n",
    "# spark.sql(f\"DROP TABLE IF EXISTS {catalog}.{gold_supply}.supply_top_inventory_products\")\n",
    "# spark.sql(f\"DROP TABLE IF EXISTS {catalog}.{gold_supply}.supply_low_stock_products\")\n",
    "# spark.sql(f\"DROP TABLE IF EXISTS {catalog}.{gold_supply}.supply_inventory_status_summary\")\n",
    "# spark.sql(f\"DROP TABLE IF EXISTS {catalog}.{gold_supply}.supply_location_inventory_value\")\n",
    "# spark.sql(f\"DROP TABLE IF EXISTS {catalog}.{gold_supply}.supply_location_inventory_quantity\")"
   ]
  },
  {
   "cell_type": "code",
   "execution_count": 0,
   "metadata": {
    "application/vnd.databricks.v1+cell": {
     "cellMetadata": {},
     "inputWidgets": {},
     "nuid": "0fb0900b-092b-4f88-b9be-66be28426959",
     "showTitle": false,
     "tableResultSettingsMap": {},
     "title": ""
    }
   },
   "outputs": [],
   "source": [
    "# Create schema\n",
    "spark.sql(f\"CREATE SCHEMA IF NOT EXISTS {catalog}.{gold_supply}\")"
   ]
  },
  {
   "cell_type": "code",
   "execution_count": 0,
   "metadata": {
    "application/vnd.databricks.v1+cell": {
     "cellMetadata": {
      "byteLimit": 2048000,
      "rowLimit": 10000
     },
     "inputWidgets": {},
     "nuid": "811849dd-795e-4907-b00d-096baeed5e54",
     "showTitle": true,
     "tableResultSettingsMap": {},
     "title": "Creating B2C Supply Chain KPI Metrics"
    }
   },
   "outputs": [],
   "source": [
    "# Creating B2C Supply Chain KPI Metrics\n",
    "spark.sql(f\"\"\"\n",
    "CREATE TABLE {catalog}.{gold_supply}.supply_b2c_kpi AS\n",
    "WITH base_data AS (\n",
    "    SELECT\n",
    "        i.product_id,\n",
    "        i.quantity_on_hand,\n",
    "        p.retail_price,\n",
    "        coi.total_price,\n",
    "        coi.quantity,\n",
    "        o.order_status,\n",
    "        o.order_date,\n",
    "        co.order_id AS co_order_id\n",
    "    FROM {catalog}.{silver_schema}.cpg_inventory i\n",
    "    JOIN {catalog}.{silver_schema}.cpg_product p \n",
    "        ON i.product_id = p.product_id\n",
    "    JOIN {catalog}.{silver_schema}.cpg_consumer_order_items coi \n",
    "        ON p.product_id = coi.product_id\n",
    "    JOIN {catalog}.{silver_schema}.cpg_consumer_order o \n",
    "        ON coi.order_id = o.order_id\n",
    "    JOIN {catalog}.{silver_schema}.cpg_consumer_order co \n",
    "        ON o.order_id = co.order_id\n",
    "),\n",
    "agg_level1 AS (\n",
    "    SELECT\n",
    "        CURRENT_DATE() AS kpi_date,\n",
    "        SUM(quantity_on_hand * retail_price) AS inventory_value,\n",
    "        SUM(total_price) AS total_sales_value,\n",
    "        SUM(quantity) AS total_quantity_sold,\n",
    "        AVG(quantity_on_hand) AS avg_quantity_on_hand,\n",
    "        COUNT(DISTINCT co_order_id) AS total_orders,\n",
    "        SUM(CASE WHEN order_status = 'Returned' THEN 1 ELSE 0 END) AS backorder_count,\n",
    "        COUNT(*) AS total_order_lines,\n",
    "        AVG(DATEDIFF(CURRENT_DATE(), order_date)) AS avg_days_sales_inventory,\n",
    "        DATEDIFF(MAX(order_date), MIN(order_date)) / 7.0 AS total_weeks_in_period\n",
    "    FROM base_data\n",
    ")\n",
    "SELECT\n",
    "    kpi_date,\n",
    "    ROUND(inventory_value / NULLIF(total_sales_value, 0), 2) AS stock_to_sales_ratio,\n",
    "    ROUND(total_quantity_sold / NULLIF(avg_quantity_on_hand, 0), 2) AS inventory_turnover_rate,\n",
    "    ROUND(avg_quantity_on_hand / NULLIF(total_quantity_sold / NULLIF(total_weeks_in_period, 0), 0), 2) AS weeks_on_hand,\n",
    "    ROUND(backorder_count * 100.0 / NULLIF(total_order_lines, 0), 2) AS backorder_rate_pct,\n",
    "    ROUND(avg_days_sales_inventory, 2) AS days_sales_in_inventory\n",
    "FROM agg_level1;\n",
    "\"\"\")\n"
   ]
  },
  {
   "cell_type": "code",
   "execution_count": 0,
   "metadata": {
    "application/vnd.databricks.v1+cell": {
     "cellMetadata": {
      "byteLimit": 2048000,
      "rowLimit": 10000
     },
     "inputWidgets": {},
     "nuid": "f748a2b3-461e-4962-8bbc-6c3330f09883",
     "showTitle": true,
     "tableResultSettingsMap": {},
     "title": "Creating B2B Supply Chain KPI Metrics"
    }
   },
   "outputs": [],
   "source": [
    "# Creating B2B Supply Chain KPI Metrics\n",
    "spark.sql(f\"\"\"\n",
    "CREATE TABLE {catalog}.{gold_supply}.supply_b2b_kpi AS\n",
    "WITH base_data AS (\n",
    "    SELECT\n",
    "        i.product_id,\n",
    "        i.quantity_on_hand,\n",
    "        p.retail_price,\n",
    "        coi.total_price,\n",
    "        coi.quantity_ordered,\n",
    "        o.order_status,\n",
    "        o.order_date,\n",
    "        co.purchase_id AS co_order_id\n",
    "    FROM {catalog}.{silver_schema}.cpg_inventory i\n",
    "    JOIN {catalog}.{silver_schema}.cpg_product p \n",
    "        ON i.product_id = p.product_id\n",
    "    JOIN {catalog}.{silver_schema}.cpg_distributor_purchase_items coi \n",
    "        ON p.product_id = coi.product_id\n",
    "    JOIN {catalog}.{silver_schema}.cpg_distributor_purchases o \n",
    "        ON coi.purchase_id = o.purchase_id\n",
    "    JOIN {catalog}.{silver_schema}.cpg_distributor_purchases co \n",
    "        ON o.purchase_id = co.purchase_id\n",
    "),\n",
    "agg_level1 AS (\n",
    "    SELECT\n",
    "        CURRENT_DATE() AS kpi_date,\n",
    "        SUM(quantity_on_hand * retail_price) AS inventory_value,\n",
    "        SUM(total_price) AS total_sales_value,\n",
    "        SUM(quantity_ordered) AS total_quantity_sold,\n",
    "        AVG(quantity_on_hand) AS avg_quantity_on_hand,\n",
    "        COUNT(DISTINCT co_order_id) AS total_orders,\n",
    "        SUM(CASE WHEN order_status = 'Cancelled' THEN 1 ELSE 0 END) AS backorder_count,\n",
    "        COUNT(*) AS total_order_lines,\n",
    "        AVG(DATEDIFF(CURRENT_DATE(), order_date)) AS avg_days_sales_inventory,\n",
    "        DATEDIFF(MAX(order_date), MIN(order_date)) AS total_days\n",
    "    FROM base_data\n",
    ")\n",
    "SELECT\n",
    "    kpi_date,\n",
    "    ROUND(inventory_value / NULLIF(total_sales_value, 0), 2) AS stock_to_sales_ratio,\n",
    "    ROUND(total_quantity_sold / NULLIF(avg_quantity_on_hand, 0), 2) AS inventory_turnover_rate,\n",
    "    ROUND(avg_quantity_on_hand / NULLIF(total_quantity_sold / NULLIF((total_days / 7.0), 0), 0), 2) AS weeks_on_hand,\n",
    "    ROUND(backorder_count * 100.0 / NULLIF(total_order_lines, 0), 2) AS backorder_rate_pct,\n",
    "    ROUND(avg_days_sales_inventory, 2) AS days_sales_in_inventory\n",
    "FROM agg_level1;\n",
    "\"\"\")\n"
   ]
  },
  {
   "cell_type": "code",
   "execution_count": 0,
   "metadata": {
    "application/vnd.databricks.v1+cell": {
     "cellMetadata": {},
     "inputWidgets": {},
     "nuid": "647bd467-afd9-4f2b-adc6-4ff4cd56b920",
     "showTitle": true,
     "tableResultSettingsMap": {},
     "title": "Top Inventory Products and Quantities"
    }
   },
   "outputs": [],
   "source": [
    "# Top Inventory Products and Quantities\n",
    "spark.sql(f\"\"\"\n",
    "CREATE TABLE {catalog}.{gold_supply}.supply_top_inventory_products AS\n",
    "SELECT \n",
    "    pr.product_name,\n",
    "    inv.quantity_on_hand\n",
    "FROM {catalog}.{silver_schema}.cpg_inventory inv\n",
    "JOIN {catalog}.{silver_schema}.cpg_product pr\n",
    "    ON inv.product_id = pr.product_id\n",
    "ORDER BY inv.quantity_on_hand DESC\n",
    "LIMIT 10;\n",
    "\"\"\")"
   ]
  },
  {
   "cell_type": "code",
   "execution_count": 0,
   "metadata": {
    "application/vnd.databricks.v1+cell": {
     "cellMetadata": {},
     "inputWidgets": {},
     "nuid": "0a31f02e-655a-4edc-9be9-cd6383d832fc",
     "showTitle": true,
     "tableResultSettingsMap": {},
     "title": "Products Below Reorder Level"
    }
   },
   "outputs": [],
   "source": [
    "# Products Below Reorder Level\n",
    "spark.sql(f\"\"\"\n",
    "CREATE TABLE {catalog}.{gold_supply}.supply_low_stock_products AS\n",
    "SELECT p.product_name, inv.quantity_on_hand, inv.reorder_level\n",
    "FROM {catalog}.{silver_schema}.cpg_inventory inv\n",
    "JOIN {catalog}.{silver_schema}.cpg_product p ON inv.product_id = p.product_id\n",
    "WHERE inv.quantity_on_hand <= inv.reorder_level\n",
    "ORDER BY inv.quantity_on_hand ASC;\n",
    "\"\"\")"
   ]
  },
  {
   "cell_type": "code",
   "execution_count": 0,
   "metadata": {
    "application/vnd.databricks.v1+cell": {
     "cellMetadata": {},
     "inputWidgets": {},
     "nuid": "49306080-6cc8-477b-a946-791b4b602682",
     "showTitle": true,
     "tableResultSettingsMap": {},
     "title": "Inventory Status Summary and Count"
    }
   },
   "outputs": [],
   "source": [
    "# Inventory Status Summary and Count\n",
    "spark.sql(f\"\"\"\n",
    "CREATE TABLE {catalog}.{gold_supply}.supply_inventory_status_summary AS\n",
    "SELECT \n",
    "    inventory_status,\n",
    "    COUNT(*) AS count\n",
    "FROM {catalog}.{silver_schema}.cpg_inventory\n",
    "GROUP BY inventory_status;\n",
    "\"\"\")"
   ]
  },
  {
   "cell_type": "code",
   "execution_count": 0,
   "metadata": {
    "application/vnd.databricks.v1+cell": {
     "cellMetadata": {
      "byteLimit": 2048000,
      "rowLimit": 10000
     },
     "inputWidgets": {},
     "nuid": "e44064a6-a810-4c0f-b330-321bee1dc2ba",
     "showTitle": false,
     "tableResultSettingsMap": {},
     "title": ""
    }
   },
   "outputs": [],
   "source": [
    "# Total Stock Value by Location and City\n",
    "spark.sql(f\"\"\"\n",
    "CREATE TABLE {catalog}.{gold_supply}.supply_location_inventory_value AS\n",
    "SELECT \n",
    "    inv.location_name,\n",
    "    inv.state,\n",
    "    inv.country,\n",
    "    SUM(inv.quantity_on_hand * pr.retail_price) AS total_stock_value\n",
    "FROM {catalog}.{silver_schema}.cpg_inventory inv\n",
    "JOIN {catalog}.{silver_schema}.cpg_product pr\n",
    "    ON inv.product_id = pr.product_id\n",
    "GROUP BY inv.country, inv.state, inv.location_name\n",
    "ORDER BY total_stock_value DESC;\n",
    "\"\"\")\n"
   ]
  },
  {
   "cell_type": "code",
   "execution_count": 0,
   "metadata": {
    "application/vnd.databricks.v1+cell": {
     "cellMetadata": {},
     "inputWidgets": {},
     "nuid": "3bfb46b3-fba5-401a-9c84-901e1bca6b65",
     "showTitle": true,
     "tableResultSettingsMap": {},
     "title": "Total Stock by Location and City"
    }
   },
   "outputs": [],
   "source": [
    "# Total Stock by Location and City\n",
    "spark.sql(f\"\"\"\n",
    "CREATE TABLE {catalog}.{gold_supply}.supply_location_inventory_quantity AS\n",
    "SELECT \n",
    "    location_name,\n",
    "    state,\n",
    "    country,\n",
    "    SUM(quantity_on_hand) AS total_quantity\n",
    "FROM {catalog}.{silver_schema}.cpg_inventory\n",
    "GROUP BY country, state, location_name\n",
    "ORDER BY total_quantity DESC;\n",
    "\"\"\")"
   ]
  }
 ],
 "metadata": {
  "application/vnd.databricks.v1+notebook": {
   "computePreferences": null,
   "dashboards": [],
   "environmentMetadata": {
    "base_environment": "",
    "environment_version": "2"
   },
   "inputWidgetPreferences": null,
   "language": "python",
   "notebookMetadata": {
    "mostRecentlyExecutedCommandWithImplicitDF": {
     "commandId": 8983810889597063,
     "dataframes": [
      "_sqldf"
     ]
    },
    "pythonIndentUnit": 4
   },
   "notebookName": "supply_common",
   "widgets": {}
  },
  "language_info": {
   "name": "python"
  }
 },
 "nbformat": 4,
 "nbformat_minor": 0
}
