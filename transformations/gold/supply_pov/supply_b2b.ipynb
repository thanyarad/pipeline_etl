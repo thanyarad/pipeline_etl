{
 "cells": [
  {
   "cell_type": "code",
   "execution_count": 0,
   "metadata": {
    "application/vnd.databricks.v1+cell": {
     "cellMetadata": {},
     "inputWidgets": {},
     "nuid": "bf54868e-a2fb-4f51-aee0-22f04404ea95",
     "showTitle": true,
     "tableResultSettingsMap": {},
     "title": "Setting Up Bronze and Silver Schema Configurations"
    }
   },
   "outputs": [],
   "source": [
    "# Configuration\n",
    "catalog = \"cpg_industry\"\n",
    "gold_supply = \"gold_supply\"\n",
    "silver_schema = \"silver\""
   ]
  },
  {
   "cell_type": "code",
   "execution_count": 0,
   "metadata": {
    "application/vnd.databricks.v1+cell": {
     "cellMetadata": {},
     "inputWidgets": {},
     "nuid": "3c1033c2-db70-40f5-ae72-f6ac643d8ffe",
     "showTitle": false,
     "tableResultSettingsMap": {},
     "title": ""
    }
   },
   "outputs": [],
   "source": [
    "# Drop schema\n",
    "# spark.sql(f\"DROP SCHEMA IF EXISTS {catalog}.{gold_supply} CASCADE\")"
   ]
  },
  {
   "cell_type": "code",
   "execution_count": 0,
   "metadata": {
    "application/vnd.databricks.v1+cell": {
     "cellMetadata": {},
     "inputWidgets": {},
     "nuid": "a6432f18-be01-4eee-8fc8-1666e50476a0",
     "showTitle": false,
     "tableResultSettingsMap": {},
     "title": ""
    }
   },
   "outputs": [],
   "source": [
    "# Create schema\n",
    "spark.sql(f\"CREATE SCHEMA IF NOT EXISTS {catalog}.{gold_supply}\")"
   ]
  },
  {
   "cell_type": "code",
   "execution_count": 0,
   "metadata": {
    "application/vnd.databricks.v1+cell": {
     "cellMetadata": {
      "byteLimit": 2048000,
      "rowLimit": 10000
     },
     "inputWidgets": {},
     "nuid": "e0c640b8-117d-4960-80e0-cf120ca96e1d",
     "showTitle": true,
     "tableResultSettingsMap": {
      "0": {
       "dataGridStateBlob": "{\"version\":1,\"tableState\":{\"columnPinning\":{\"left\":[\"#row_number#\"],\"right\":[]},\"columnSizing\":{},\"columnVisibility\":{}},\"settings\":{\"columns\":{}},\"syncTimestamp\":1754829252680}",
       "filterBlob": null,
       "queryPlanFiltersBlob": null,
       "tableResultIndex": 0
      }
     },
     "title": "Monthly Purchase Totals by Order Date"
    }
   },
   "outputs": [],
   "source": [
    "# Monthly Purchase Totals by Order Date\n",
    "spark.sql(f\"\"\"\n",
    "CREATE TABLE {catalog}.{gold_supply}.supply_b2b_monthly_purchase_summary AS\n",
    "SELECT\n",
    "    DATE_TRUNC('month', p.order_date) AS order_month,\n",
    "    ROUND(SUM(p.total_amount),2) AS total_purchase_amount\n",
    "FROM {catalog}.{silver_schema}.cpg_distributor_purchases p\n",
    "GROUP BY DATE_TRUNC('month', p.order_date)\n",
    "ORDER BY order_month;\n",
    "\"\"\")"
   ]
  },
  {
   "cell_type": "code",
   "execution_count": 0,
   "metadata": {
    "application/vnd.databricks.v1+cell": {
     "cellMetadata": {
      "byteLimit": 2048000,
      "rowLimit": 10000
     },
     "inputWidgets": {},
     "nuid": "fb743f9d-c0ed-4e40-9d77-8c1cab03169a",
     "showTitle": true,
     "tableResultSettingsMap": {
      "0": {
       "dataGridStateBlob": "{\"version\":1,\"tableState\":{\"columnPinning\":{\"left\":[\"#row_number#\"],\"right\":[]},\"columnSizing\":{},\"columnVisibility\":{}},\"settings\":{\"columns\":{}},\"syncTimestamp\":1754829255813}",
       "filterBlob": null,
       "queryPlanFiltersBlob": null,
       "tableResultIndex": 0
      }
     },
     "title": "Top Distributors by Purchase Value"
    }
   },
   "outputs": [],
   "source": [
    "# Top Distributors by Purchase Value\n",
    "spark.sql(f\"\"\"\n",
    "CREATE TABLE {catalog}.{gold_supply}.supply_b2b_top_distributor_purchase_value AS\n",
    "SELECT \n",
    "    d.distributor_name,\n",
    "    ROUND(SUM(p.total_amount),2) AS total_purchase_value\n",
    "FROM {catalog}.{silver_schema}.cpg_distributor d\n",
    "JOIN {catalog}.{silver_schema}.cpg_distributor_purchases p\n",
    "    ON d.distributor_id = p.distributor_id\n",
    "GROUP BY d.distributor_name\n",
    "ORDER BY total_purchase_value DESC;\n",
    "\"\"\")"
   ]
  },
  {
   "cell_type": "code",
   "execution_count": 0,
   "metadata": {
    "application/vnd.databricks.v1+cell": {
     "cellMetadata": {
      "byteLimit": 2048000,
      "rowLimit": 10000
     },
     "inputWidgets": {},
     "nuid": "ed6cb59f-6ac8-4c87-8e06-9e2b8d88424b",
     "showTitle": true,
     "tableResultSettingsMap": {
      "0": {
       "dataGridStateBlob": "{\"version\":1,\"tableState\":{\"columnPinning\":{\"left\":[\"#row_number#\"],\"right\":[]},\"columnSizing\":{},\"columnVisibility\":{}},\"settings\":{\"columns\":{}},\"syncTimestamp\":1754829258618}",
       "filterBlob": null,
       "queryPlanFiltersBlob": null,
       "tableResultIndex": 0
      }
     },
     "title": "Product Categories by Total Quantity Ordered"
    }
   },
   "outputs": [],
   "source": [
    "# Product Categories by Total Quantity Ordered\n",
    "spark.sql(f\"\"\"\n",
    "CREATE TABLE {catalog}.{gold_supply}.supply_b2b_category_quantity_ordered AS\n",
    "SELECT \n",
    "    pr.category,\n",
    "    SUM(pi.quantity_ordered) AS total_quantity_ordered\n",
    "FROM {catalog}.{silver_schema}.cpg_distributor_purchase_items pi\n",
    "JOIN {catalog}.{silver_schema}.cpg_product pr\n",
    "    ON pi.product_id = pr.product_id\n",
    "GROUP BY pr.category\n",
    "ORDER BY total_quantity_ordered DESC;\n",
    "\"\"\")"
   ]
  },
  {
   "cell_type": "code",
   "execution_count": 0,
   "metadata": {
    "application/vnd.databricks.v1+cell": {
     "cellMetadata": {
      "byteLimit": 2048000,
      "rowLimit": 10000
     },
     "inputWidgets": {},
     "nuid": "1cc470a5-6e72-4ff5-9c81-3abbf80a06ee",
     "showTitle": true,
     "tableResultSettingsMap": {
      "0": {
       "dataGridStateBlob": "{\"version\":1,\"tableState\":{\"columnPinning\":{\"left\":[\"#row_number#\"],\"right\":[]},\"columnSizing\":{},\"columnVisibility\":{}},\"settings\":{\"columns\":{}},\"syncTimestamp\":1754829265860}",
       "filterBlob": null,
       "queryPlanFiltersBlob": null,
       "tableResultIndex": 0
      }
     },
     "title": "Order Status Distribution Summary"
    }
   },
   "outputs": [],
   "source": [
    "# Order Status Distribution Summary\n",
    "spark.sql(f\"\"\"\n",
    "CREATE TABLE {catalog}.{gold_supply}.supply_b2b_order_status_summary AS\n",
    "SELECT \n",
    "    order_status,\n",
    "    COUNT(*) AS count\n",
    "FROM {catalog}.{silver_schema}.cpg_distributor_purchases\n",
    "GROUP BY order_status;\n",
    "\"\"\")"
   ]
  }
 ],
 "metadata": {
  "application/vnd.databricks.v1+notebook": {
   "computePreferences": null,
   "dashboards": [],
   "environmentMetadata": {
    "base_environment": "",
    "environment_version": "2"
   },
   "inputWidgetPreferences": null,
   "language": "python",
   "notebookMetadata": {
    "pythonIndentUnit": 4
   },
   "notebookName": "supply_b2b",
   "widgets": {}
  },
  "language_info": {
   "name": "python"
  }
 },
 "nbformat": 4,
 "nbformat_minor": 0
}
