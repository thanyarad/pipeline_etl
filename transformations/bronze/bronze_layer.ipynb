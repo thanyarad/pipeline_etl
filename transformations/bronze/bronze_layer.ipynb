{
 "cells": [
  {
   "cell_type": "code",
   "execution_count": 0,
   "metadata": {
    "application/vnd.databricks.v1+cell": {
     "cellMetadata": {
      "byteLimit": 2048000,
      "rowLimit": 10000
     },
     "inputWidgets": {},
     "nuid": "79333145-12fd-4e6e-8313-fb81c22d2887",
     "showTitle": false,
     "tableResultSettingsMap": {},
     "title": ""
    }
   },
   "outputs": [],
   "source": [
    "from pyspark.sql.functions import col, current_timestamp\n",
    "from pyspark.sql.types import StructType, StructField, StringType, IntegerType, BooleanType, FloatType, DateType"
   ]
  },
  {
   "cell_type": "code",
   "execution_count": 0,
   "metadata": {
    "application/vnd.databricks.v1+cell": {
     "cellMetadata": {
      "byteLimit": 2048000,
      "rowLimit": 10000
     },
     "inputWidgets": {},
     "nuid": "8f1c8b10-9808-4ba3-aa3d-4e8d85ce7c94",
     "showTitle": false,
     "tableResultSettingsMap": {},
     "title": ""
    }
   },
   "outputs": [],
   "source": [
    "spark.sql(\"DROP TABLE IF EXISTS cpg_industry.bronze.cpg_consumer\")\n",
    "spark.sql(\"DROP TABLE IF EXISTS cpg_industry.bronze.cpg_consumer_order\")\n",
    "spark.sql(\"DROP TABLE IF EXISTS cpg_industry.bronze.cpg_order_items\")\n",
    "spark.sql(\"DROP TABLE IF EXISTS cpg_industry.bronze.cpg_consumer_invoice\")\n",
    "spark.sql(\"DROP TABLE IF EXISTS cpg_industry.bronze.cpg_distributor\")\n",
    "spark.sql(\"DROP TABLE IF EXISTS cpg_industry.bronze.cpg_distributor_purchases\")\n",
    "spark.sql(\"DROP TABLE IF EXISTS cpg_industry.bronze.cpg_distributor_purchase_items\")\n",
    "spark.sql(\"DROP TABLE IF EXISTS cpg_industry.bronze.cpg_distributor_invoice\")\n",
    "spark.sql(\"DROP TABLE IF EXISTS cpg_industry.bronze.cpg_product\")\n",
    "spark.sql(\"DROP TABLE IF EXISTS cpg_industry.bronze.cpg_inventory\")\n"
   ]
  },
  {
   "cell_type": "code",
   "execution_count": 0,
   "metadata": {
    "application/vnd.databricks.v1+cell": {
     "cellMetadata": {
      "byteLimit": 2048000,
      "rowLimit": 10000
     },
     "inputWidgets": {},
     "nuid": "80cd95fb-c3e2-419f-a3cb-b209583984f2",
     "showTitle": true,
     "tableResultSettingsMap": {},
     "title": "cpg_consumer"
    }
   },
   "outputs": [],
   "source": [
    "\n",
    "# Define schema for cpg_consumer\n",
    "cpg_consumer_schema = StructType([\n",
    "    StructField(\"consumer_id\", StringType()),\n",
    "    StructField(\"name\", StringType()),\n",
    "    StructField(\"email\", StringType()),\n",
    "    StructField(\"phone\", StringType()),\n",
    "    StructField(\"gender\", StringType()),\n",
    "    StructField(\"age\", IntegerType()),\n",
    "    StructField(\"registration_date\", DateType()),\n",
    "    StructField(\"is_active\", BooleanType()),\n",
    "    StructField(\"address\", StringType()),\n",
    "    StructField(\"city\", StringType()),\n",
    "    StructField(\"state\", StringType()),\n",
    "    StructField(\"country\", StringType())\n",
    "])\n",
    "\n",
    "# Load JSON from volume using _metadata.file_path instead of input_file_name()\n",
    "df_raw = (\n",
    "    spark.read\n",
    "    .schema(cpg_consumer_schema)\n",
    "    .option(\"mergeSchema\", \"true\")\n",
    "    .json(\"dbfs:/Volumes/cpg_industry/cpg_data/data/cpg_consumer/cpg_consumer.json\")\n",
    "    .withColumn(\"source_file\", col(\"_metadata.file_path\"))\n",
    "    .withColumn(\"ingestion_time\", current_timestamp())\n",
    ")\n",
    "\n",
    "# Write to Delta Table in Bronze Layer\n",
    "df_raw.write.format(\"delta\").mode(\"overwrite\").saveAsTable(\"cpg_industry.bronze.cpg_consumer\")\n"
   ]
  },
  {
   "cell_type": "code",
   "execution_count": 0,
   "metadata": {
    "application/vnd.databricks.v1+cell": {
     "cellMetadata": {
      "byteLimit": 2048000,
      "rowLimit": 10000
     },
     "inputWidgets": {},
     "nuid": "60e2dffd-3765-4441-b81c-9f397d008911",
     "showTitle": true,
     "tableResultSettingsMap": {},
     "title": "cpg_consumer_invoice"
    }
   },
   "outputs": [],
   "source": [
    "\n",
    "\n",
    "# Define schema for cpg_consumer_invoice\n",
    "cpg_consumer_invoice_schema = StructType([\n",
    "    StructField(\"invoice_id\", StringType()),\n",
    "    StructField(\"order_id\", StringType()),\n",
    "    StructField(\"consumer_id\", StringType()),\n",
    "    StructField(\"invoice_date\", DateType()),\n",
    "    StructField(\"total_items\", IntegerType()),\n",
    "    StructField(\"gross_amount\", FloatType()),\n",
    "    StructField(\"discount_amount\", FloatType()),\n",
    "    StructField(\"tax_amount\", FloatType()),\n",
    "    StructField(\"net_amount\", FloatType()),\n",
    "    StructField(\"payment_method\", StringType()),\n",
    "    StructField(\"invoice_status\", StringType()),\n",
    "])\n",
    "\n",
    "\n",
    "# Load JSON from volume\n",
    "df_raw = (\n",
    "    spark.read\n",
    "    .schema(cpg_consumer_invoice_schema)\n",
    "    .json(\"dbfs:/Volumes/cpg_industry/cpg_data/data/cpg_consumer/cpg_consumer_invoice.json\")\n",
    "    .withColumn(\"ingestion_time\", current_timestamp())\n",
    ")\n",
    "\n",
    "# Write to Delta Table\n",
    "df_raw.write.format(\"delta\").mode(\"overwrite\").saveAsTable(\"cpg_industry.bronze.cpg_consumer_invoice\")\n"
   ]
  },
  {
   "cell_type": "code",
   "execution_count": 0,
   "metadata": {
    "application/vnd.databricks.v1+cell": {
     "cellMetadata": {
      "byteLimit": 2048000,
      "rowLimit": 10000
     },
     "inputWidgets": {},
     "nuid": "f8854491-93ba-419d-82d7-c045f492612a",
     "showTitle": true,
     "tableResultSettingsMap": {},
     "title": "cpg_consumer_order"
    }
   },
   "outputs": [],
   "source": [
    "\n",
    "\n",
    "# Define schema for cpg_consumer_order\n",
    "cpg_consumer_order_schema = StructType([\n",
    "    StructField(\"order_id\", StringType()),\n",
    "    StructField(\"consumer_id\", StringType()),\n",
    "    StructField(\"order_date\", DateType()),\n",
    "    StructField(\"shipping_address\", StringType()),\n",
    "    StructField(\"billing_address\", StringType()),\n",
    "    StructField(\"order_status\", StringType()),\n",
    "    StructField(\"total_amount\", FloatType()),\n",
    "    StructField(\"payment_method\", StringType()),\n",
    "    StructField(\"currency\", StringType()),\n",
    "    StructField(\"channel\", StringType()),\n",
    "])\n",
    "\n",
    "\n",
    "# Load JSON from volume\n",
    "df_raw = (\n",
    "    spark.read\n",
    "    .schema(cpg_consumer_order_schema)\n",
    "    .json(\"dbfs:/Volumes/cpg_industry/cpg_data/data/cpg_consumer/cpg_consumer_order.json\")\n",
    "    .withColumn(\"ingestion_time\", current_timestamp())\n",
    ")\n",
    "\n",
    "# Write to Delta Table\n",
    "df_raw.write.format(\"delta\").mode(\"overwrite\").saveAsTable(\"cpg_industry.bronze.cpg_consumer_order\")\n"
   ]
  },
  {
   "cell_type": "code",
   "execution_count": 0,
   "metadata": {
    "application/vnd.databricks.v1+cell": {
     "cellMetadata": {
      "byteLimit": 2048000,
      "rowLimit": 10000
     },
     "inputWidgets": {},
     "nuid": "b6cf2a0f-79bb-4b73-b689-b19d8d5ccc47",
     "showTitle": true,
     "tableResultSettingsMap": {},
     "title": "cpg_distributor"
    }
   },
   "outputs": [],
   "source": [
    "\n",
    "# Define schema for cpg_distributor\n",
    "cpg_distributor_schema = StructType([\n",
    "    StructField(\"distributor_id\", StringType()),\n",
    "    StructField(\"distributor_name\", StringType()),\n",
    "    StructField(\"company_name\", StringType()),\n",
    "    StructField(\"last_activity_date\", DateType()),\n",
    "    StructField(\"no_of_associated_deals\", IntegerType()),\n",
    "    StructField(\"total_open_deal_value\", StringType()),\n",
    "    StructField(\"rating\", IntegerType()),\n",
    "    StructField(\"email\", StringType()),\n",
    "    StructField(\"phone\", StringType()),\n",
    "    StructField(\"city\", StringType()),\n",
    "    StructField(\"state\", StringType()),\n",
    "    StructField(\"country\", StringType()),\n",
    "    StructField(\"address\", StringType()),\n",
    "])\n",
    "\n",
    "\n",
    "# Load JSON from volume\n",
    "df_raw = (\n",
    "    spark.read\n",
    "    .schema(cpg_distributor_schema)\n",
    "    .json(\"dbfs:/Volumes/cpg_industry/cpg_data/data/cpg_distributor/cpg_distributor.json\")\n",
    ")\n",
    "\n",
    "# Write to Delta Table\n",
    "df_raw.write.format(\"delta\").mode(\"overwrite\").saveAsTable(\"cpg_industry.bronze.cpg_distributor\")\n"
   ]
  },
  {
   "cell_type": "code",
   "execution_count": 0,
   "metadata": {
    "application/vnd.databricks.v1+cell": {
     "cellMetadata": {
      "byteLimit": 2048000,
      "rowLimit": 10000
     },
     "inputWidgets": {},
     "nuid": "24d0bb99-69b0-4fe7-a906-3d9b15ce0204",
     "showTitle": true,
     "tableResultSettingsMap": {},
     "title": "cpg_distributor_invoice"
    }
   },
   "outputs": [],
   "source": [
    "\n",
    "# Define schema for cpg_distributor_invoice\n",
    "cpg_distributor_invoice_schema = StructType([\n",
    "    StructField(\"invoice_id\", StringType()),\n",
    "    StructField(\"purchase_id\", StringType()),\n",
    "    StructField(\"invoice_date\", DateType()),\n",
    "    StructField(\"amount_due\", FloatType()),\n",
    "    StructField(\"tax_amount\", FloatType()),\n",
    "    StructField(\"discount\", FloatType()),\n",
    "    StructField(\"total_payable\", FloatType()),\n",
    "    StructField(\"payment_status\", StringType()),\n",
    "])\n",
    "\n",
    "\n",
    "# Load JSON from volume\n",
    "df_raw = (\n",
    "    spark.read\n",
    "    .schema(cpg_distributor_invoice_schema)\n",
    "    .json(\"dbfs:/Volumes/cpg_industry/cpg_data/data/cpg_distributor/cpg_distributor_invoice.json\")\n",
    ")\n",
    "\n",
    "# Write to Delta Table\n",
    "df_raw.write.format(\"delta\").mode(\"overwrite\").saveAsTable(\"cpg_industry.bronze.cpg_distributor_invoice\")\n"
   ]
  },
  {
   "cell_type": "code",
   "execution_count": 0,
   "metadata": {
    "application/vnd.databricks.v1+cell": {
     "cellMetadata": {
      "byteLimit": 2048000,
      "rowLimit": 10000
     },
     "inputWidgets": {},
     "nuid": "dad03710-9110-4f40-93b9-fcc621dd3672",
     "showTitle": true,
     "tableResultSettingsMap": {},
     "title": "cpg_distriutor_purchase_items"
    }
   },
   "outputs": [],
   "source": [
    "\n",
    "\n",
    "# Define schema for cpg_distributor_purchase_items\n",
    "cpg_distributor_purchase_items_schema = StructType([\n",
    "    StructField(\"purchase_item_id\", StringType()),\n",
    "    StructField(\"purchase_id\", StringType()),\n",
    "    StructField(\"product_id\", StringType()),\n",
    "    StructField(\"upc\", StringType()),\n",
    "    StructField(\"quantity_ordered\", IntegerType()),\n",
    "    StructField(\"unit_cost\", FloatType()),\n",
    "    StructField(\"total_price\", FloatType()),\n",
    "])\n",
    "\n",
    "\n",
    "# Load JSON from volume\n",
    "df_raw = (\n",
    "    spark.read\n",
    "    .schema(cpg_distributor_purchase_items_schema)\n",
    "    .json(\"dbfs:/Volumes/cpg_industry/cpg_data/data/cpg_distributor/cpg_distributor_purchase_items.json\")\n",
    ")\n",
    "\n",
    "# Write to Delta Table\n",
    "df_raw.write.format(\"delta\").mode(\"overwrite\").saveAsTable(\"cpg_industry.bronze.cpg_distributor_purchase_items\")\n"
   ]
  },
  {
   "cell_type": "code",
   "execution_count": 0,
   "metadata": {
    "application/vnd.databricks.v1+cell": {
     "cellMetadata": {
      "byteLimit": 2048000,
      "rowLimit": 10000
     },
     "inputWidgets": {},
     "nuid": "3ff20ccb-2c1a-4142-b72a-261577d8ac84",
     "showTitle": true,
     "tableResultSettingsMap": {},
     "title": "cpg_distributor_purchase"
    }
   },
   "outputs": [],
   "source": [
    "\n",
    "\n",
    "# Define schema for cpg_distributor_purchases\n",
    "cpg_distributor_purchases_schema = StructType([\n",
    "    StructField(\"purchase_id\", StringType()),\n",
    "    StructField(\"order_date\", DateType()),\n",
    "    StructField(\"expected_delivery_date\", DateType()),\n",
    "    StructField(\"order_status\", StringType()),\n",
    "    StructField(\"total_amount\", FloatType()),\n",
    "    StructField(\"currency\", StringType()),\n",
    "])\n",
    "\n",
    "\n",
    "# Load JSON from volume\n",
    "df_raw = (\n",
    "    spark.read\n",
    "    .schema(cpg_distributor_purchases_schema)\n",
    "    .json(\"dbfs:/Volumes/cpg_industry/cpg_data/data/cpg_distributor/cpg_distributor_purchases.json\")\n",
    ")\n",
    "\n",
    "# Write to Delta Table\n",
    "df_raw.write.format(\"delta\").mode(\"overwrite\").saveAsTable(\"cpg_industry.bronze.cpg_distributor_purchases\")\n"
   ]
  },
  {
   "cell_type": "code",
   "execution_count": 0,
   "metadata": {
    "application/vnd.databricks.v1+cell": {
     "cellMetadata": {
      "byteLimit": 2048000,
      "rowLimit": 10000
     },
     "inputWidgets": {},
     "nuid": "2df9a71b-7555-4960-a402-de54ff8407c2",
     "showTitle": true,
     "tableResultSettingsMap": {},
     "title": "cpg_order_items"
    }
   },
   "outputs": [],
   "source": [
    "\n",
    "\n",
    "# Define schema for cpg_order_items\n",
    "cpg_consumer_order_items_schema = StructType([\n",
    "    StructField(\"order_item_id\", StringType()),\n",
    "    StructField(\"order_id\", StringType()),\n",
    "    StructField(\"product_id\", StringType()),\n",
    "    StructField(\"quantity\", IntegerType()),\n",
    "    StructField(\"unit_price\", FloatType()),\n",
    "    StructField(\"total_price\", FloatType()),\n",
    "])\n",
    "\n",
    "\n",
    "# Load JSON from volume\n",
    "df_raw = (\n",
    "    spark.read\n",
    "    .schema(cpg_consumer_order_items_schema)\n",
    "    .json(\"dbfs:/Volumes/cpg_industry/cpg_data/data/cpg_consumer/cpg_consumer_order_items.json\")\n",
    ")\n",
    "\n",
    "# Write to Delta Table\n",
    "df_raw.write.format(\"delta\").mode(\"overwrite\").saveAsTable(\"cpg_industry.bronze.cpg_order_items\")\n"
   ]
  },
  {
   "cell_type": "code",
   "execution_count": 0,
   "metadata": {
    "application/vnd.databricks.v1+cell": {
     "cellMetadata": {
      "byteLimit": 2048000,
      "rowLimit": 10000
     },
     "inputWidgets": {},
     "nuid": "86597e4b-2747-440d-9e1a-e3273ed888c4",
     "showTitle": true,
     "tableResultSettingsMap": {},
     "title": "cpg_products"
    }
   },
   "outputs": [],
   "source": [
    "\n",
    "\n",
    "# Define schema for cpg_product\n",
    "cpg_product_schema = StructType([\n",
    "    StructField(\"product_id\", StringType()),\n",
    "    StructField(\"sku_id\", StringType()),\n",
    "    StructField(\"upc\", StringType()),\n",
    "    StructField(\"gtin\", StringType()),\n",
    "    StructField(\"product_name\", StringType()),\n",
    "    StructField(\"description\", StringType()),\n",
    "    StructField(\"department\", StringType()),\n",
    "    StructField(\"category\", StringType()),\n",
    "    StructField(\"brand\", StringType()),\n",
    "    StructField(\"unit_of_measurement\", StringType()),\n",
    "    StructField(\"retail_price\", FloatType()),\n",
    "    StructField(\"unit_price\", FloatType()),\n",
    "    StructField(\"release_date\", DateType()),\n",
    "    StructField(\"expiration_days\", IntegerType()),\n",
    "    StructField(\"product_status\", StringType()),\n",
    "])\n",
    "\n",
    "\n",
    "# Load JSON from volume\n",
    "df_raw = (\n",
    "    spark.read\n",
    "    .option(\"inferSchema\", \"true\")\n",
    "    .json(\"dbfs:/Volumes/cpg_industry/cpg_data/data/cpg_inventory/cpg_product.json\")\n",
    ")\n",
    "\n",
    "# Write to Delta Table\n",
    "df_raw.write.format(\"delta\").mode(\"overwrite\").saveAsTable(\"cpg_industry.bronze.cpg_product\")\n"
   ]
  },
  {
   "cell_type": "code",
   "execution_count": 0,
   "metadata": {
    "application/vnd.databricks.v1+cell": {
     "cellMetadata": {
      "byteLimit": 2048000,
      "rowLimit": 10000
     },
     "inputWidgets": {},
     "nuid": "a4637357-49ed-4440-96a3-607d07f11c77",
     "showTitle": false,
     "tableResultSettingsMap": {},
     "title": ""
    }
   },
   "outputs": [],
   "source": [
    "\n",
    "# Define schema for cpg_inventory\n",
    "cpg_inventory_schema = StructType([\n",
    "    StructField(\"inventory_id\", StringType()),\n",
    "    StructField(\"product_id\", StringType()),\n",
    "    StructField(\"quantity_on_hand\", IntegerType()),\n",
    "    StructField(\"reorder_level\", IntegerType()),\n",
    "    StructField(\"reorder_quantity\", IntegerType()),\n",
    "    StructField(\"last_restock_date\", DateType()),\n",
    "    StructField(\"safety_stock_level\", IntegerType()),\n",
    "    StructField(\"inventory_status\", StringType()),\n",
    "    StructField(\"last_updated\", DateType()),\n",
    "    StructField(\"location_code\", StringType()),\n",
    "    StructField(\"location_name\", StringType()),\n",
    "    StructField(\"location_type\", StringType()),\n",
    "    StructField(\"location_is_active\", BooleanType()),\n",
    "    StructField(\"address\", StringType()),\n",
    "    StructField(\"city\", StringType()),\n",
    "    StructField(\"state\", StringType()),\n",
    "    StructField(\"country\", StringType()),\n",
    "    StructField(\"email\", StringType()),\n",
    "    StructField(\"phone\", StringType()),\n",
    "])\n",
    "\n",
    "\n",
    "# Load JSON from volume\n",
    "df_raw = (\n",
    "    spark.read\n",
    "    .schema(cpg_inventory_schema)\n",
    "    .json(\"dbfs:/Volumes/cpg_industry/cpg_data/data/cpg_inventory/cpg_inventory.json\")\n",
    ")\n",
    "\n",
    "# Write to Delta Table\n",
    "df_raw.write.format(\"delta\").mode(\"overwrite\").saveAsTable(\"cpg_industry.bronze.cpg_inventory\")\n"
   ]
  }
 ],
 "metadata": {
  "application/vnd.databricks.v1+notebook": {
   "computePreferences": null,
   "dashboards": [],
   "environmentMetadata": {
    "base_environment": "",
    "environment_version": "2"
   },
   "inputWidgetPreferences": null,
   "language": "python",
   "notebookMetadata": {
    "pythonIndentUnit": 4
   },
   "notebookName": "bronze_layer",
   "widgets": {}
  },
  "language_info": {
   "name": "python"
  }
 },
 "nbformat": 4,
 "nbformat_minor": 0
}
